{
 "cells": [
  {
   "cell_type": "markdown",
   "id": "hundred-plymouth",
   "metadata": {},
   "source": [
    "## 히스토그램 평활화\n",
    "\n",
    "### 히스토그램 평활화(Histogram equalization)\n",
    "\n",
    "- 히스토그램이 그레이스케일 전체 구간에서 균일한 분포로 나타내게 변경하는 명암비 향상 기법\n",
    "\n",
    "- 히스토그램 균등화, 균일화, 평탄화\n",
    "\n",
    "### 변환 함수 구하기\n",
    "\n",
    "- 히스토그램 함수 구하기 : ![](https://images.velog.io/images/qsdcfd/post/ae90addd-2edb-41e2-8fc1-eb14beda499a/image.png)\n",
    "\n",
    "\n",
    "- 정규화된 히스토그램 함수 구하기: ![](https://images.velog.io/images/qsdcfd/post/11014760-8058-4858-9212-fb3e50b1da82/image.png)\n",
    "\n",
    "- 누적 분포 함수(cdf)구하기: ![](https://images.velog.io/images/qsdcfd/post/d2a2532b-8460-4823-8998-736806cb09e5/image.png)\n",
    "\n",
    "\n",
    "- 변환함수: dst(x,y) = round(cdf(src(x,y)) * Lmax)\n",
    "\n",
    "\n",
    "#### 히스토그램 평활화 계산 방법\n",
    "\n",
    "![](https://images.velog.io/images/qsdcfd/post/ba67e2b4-58d8-4288-b5bc-cfd3e85ea3f6/image.png)\n",
    "\n",
    "#### 히스토그램 평활화와 히스토그램 누적 분포 함수와의 관계\n",
    "\n",
    "![](https://images.velog.io/images/qsdcfd/post/af15d76b-9bf0-42e8-9fc6-bbbf56608bb7/image.png)\n",
    "\n",
    "#### 히스토그램 평활화\n",
    "\n",
    "```\n",
    "cv2.equalizeHist(src, dst=None) -> dst\n",
    "```\n",
    "\n",
    "- src: 입력영상. 그레이스케일 영상\n",
    "\n",
    "- dst: 결과 영상\n",
    "\n",
    "#### 히스토그램 평활화 예제\n",
    "\n",
    "```\n",
    "src = cv2.imread('Hawkes.jpg', cv2.IMREAD_GRAYSCALE)\n",
    "\n",
    "dst = cv2.equalizeHist(src)\n",
    "\n",
    "```\n",
    "![](https://images.velog.io/images/qsdcfd/post/67835e7c-7b2c-4bb6-bd4c-6dead31ea124/image.png)\n",
    "\n",
    "#### 히스토그램 스트레칭과 평활화 비교\n",
    "\n",
    "![](https://images.velog.io/images/qsdcfd/post/e403341a-1f75-4e5b-b8fa-e127285e6bba/image.png)\n",
    "\n",
    "#### 컬러 영상의 히스토그램 평활화\n",
    "\n",
    "- 컬러 히스토그램 평활화\n",
    "\n",
    "\t- 직관적인 방법: R,G,B 각 색 평면에 대해 히스토그램 평활화\n",
    "    ![](https://images.velog.io/images/qsdcfd/post/d2b87bb1-49ed-4780-9877-2547452256c2/image.png) \n",
    "    \n",
    "    \n",
    "- Code of 컬러 영상의 히스토그램 평활화"
   ]
  },
  {
   "cell_type": "code",
   "execution_count": null,
   "id": "average-diving",
   "metadata": {},
   "outputs": [],
   "source": [
    "src = cv2.imread('field.bmp')\n",
    "\n",
    "src_ycrcb = cv2.cvtColor(src, cv2.COLOR_BGR2YCrCb)\n",
    "ycrcb_planes = cv2.split(src_ycrcb)\n",
    "\n",
    "# 밝기 성분에 대해서만 히스토그램 평활화 수행\n",
    "ycrcb_planes[0] = cv2.equalizeHist(ycrcb_planes[0])\n",
    "\n",
    "dst_ycrcb = cv2.merge(ycrcb_planes)\n",
    "dst = cv2.cvtColor(dst_ycrcb, cv2.COLOR_YCrCb2BGR)"
   ]
  },
  {
   "cell_type": "markdown",
   "id": "antique-august",
   "metadata": {},
   "source": [
    "![](https://images.velog.io/images/qsdcfd/post/0fe234c4-2a7b-4acb-aa8e-0eb15d1f5704/image.png)"
   ]
  },
  {
   "cell_type": "code",
   "execution_count": null,
   "id": "inside-custom",
   "metadata": {},
   "outputs": [],
   "source": []
  }
 ],
 "metadata": {
  "kernelspec": {
   "display_name": "Python 3",
   "language": "python",
   "name": "python3"
  },
  "language_info": {
   "codemirror_mode": {
    "name": "ipython",
    "version": 3
   },
   "file_extension": ".py",
   "mimetype": "text/x-python",
   "name": "python",
   "nbconvert_exporter": "python",
   "pygments_lexer": "ipython3",
   "version": "3.7.9"
  }
 },
 "nbformat": 4,
 "nbformat_minor": 5
}
