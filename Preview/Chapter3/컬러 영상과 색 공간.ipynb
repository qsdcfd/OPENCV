{
 "cells": [
  {
   "cell_type": "markdown",
   "id": "reserved-shell",
   "metadata": {},
   "source": [
    "### OpenCV와 컬러 영상\n",
    "\n",
    "- 컬러 영상은 3차원 numpy.ndarray로 표현하고, img.shape = (h,w,3)\n",
    "\n",
    "- OpenCV에는 BGR순서"
   ]
  },
  {
   "cell_type": "code",
   "execution_count": null,
   "id": "assisted-southwest",
   "metadata": {},
   "outputs": [],
   "source": [
    "img1 = cv2.imread('lenna.bmp', cv2.IMREAD_COLOR)\n",
    "img2 = np.zeros((480, 640, 3), np.uint8)\n",
    "img3 = cv2.imread('lenna.bmp', cv2.IMREAD_GRAYSCALE)\n",
    "img4 = cv2.cvtColor(img3, cv2.COLOR_GRAY2BGR) # B,G,R색 성분 값이 모두 같게 설정"
   ]
  },
  {
   "cell_type": "markdown",
   "id": "infinite-algebra",
   "metadata": {},
   "source": [
    "### RGB 색 공간\n",
    "\n",
    "- 가산 혼합: 색의 삼원소 혼합하여 색상 표현\n",
    "\n",
    "-  예시: TV, 모니터, 카메라 센서 Bayer필터, 비트맨\n",
    "\n",
    "![](https://images.velog.io/images/qsdcfd/post/532d0ac6-10ed-4b6c-9676-370d333ce337/image.png)\n"
   ]
  },
  {
   "cell_type": "markdown",
   "id": "numeric-facility",
   "metadata": {},
   "source": [
    "### 색상 처리\n",
    "\n",
    "1. 색상 채널 분리\n",
    "\n",
    "```\n",
    "cv2.split(m, mv=None) -> dst\n",
    "```\n",
    "\n",
    "- m: 다채널 영상(B,G,R)로 구성된 컬러 영상\n",
    "\n",
    "- mv: 출력 영상\n",
    "\n",
    "- dst: 출력 영상의 리스트\n",
    "\n",
    "2. 색상 채널 결합\n",
    "\n",
    "```\n",
    "cv2.merge(mv, dst=None) -> dst\n",
    "```\n",
    "\n",
    "- mv: 입력 영상 리스트 또는 튜플\n",
    "\n",
    "- dst: 출력 영상\n"
   ]
  },
  {
   "cell_type": "markdown",
   "id": "honey-serbia",
   "metadata": {},
   "source": [
    "3. code of RGB색상 평면 나누기\n"
   ]
  },
  {
   "cell_type": "code",
   "execution_count": null,
   "id": "grand-builder",
   "metadata": {},
   "outputs": [],
   "source": [
    "src = cv2.imread('candies.png', cv2.IMREAD_COLOR)\n",
    "\n",
    "# 컬러 영상 속성 확인\n",
    "print('src.shape:', src.shape) # src.shape: (480, 640, 3)\n",
    "print('src.dtype:', src.dtype) # src.dtype: uint8\n",
    "\n",
    "# RGB 색 평면 분할\n",
    "b_plane, g_plane, r_plane = cv2.split(src)\n",
    "\n",
    "cv2.imshow('src', src)\n",
    "cv2.imshow('B_plane', b_plane)\n",
    "cv2.imshow('G_plane', g_plane)\n",
    "cv2.imshow('R_plane', r_plane)\n"
   ]
  },
  {
   "cell_type": "markdown",
   "id": "front-western",
   "metadata": {},
   "source": [
    "![](https://images.velog.io/images/qsdcfd/post/a83b0b00-3119-4ba6-a926-46fdeb6e91af/image.png)"
   ]
  },
  {
   "cell_type": "markdown",
   "id": "incorrect-turning",
   "metadata": {},
   "source": [
    "### 색 공간 변환\n",
    " \n",
    "- 특정 목적을 위해 RGB색 공간을 HSV, YCrCb, Grayscale, Lab 등의 다른 색 공간으로 처리\n",
    "\n",
    "- 예시\n",
    "\n",
    "![](https://images.velog.io/images/qsdcfd/post/571b3ac6-9202-4e2e-813d-352d509c202d/image.png)\n"
   ]
  },
  {
   "cell_type": "markdown",
   "id": "modular-companion",
   "metadata": {},
   "source": [
    "\n",
    "### 색 공간 변환 함수\n",
    "\n",
    "```\n",
    "cv2.cvtColor(src, code, dst=None, dstCn=None) -> dst\n",
    "```\n",
    "\n",
    "- src: 입력 영상\n",
    "\n",
    "- code: 색 변환 코드 \n",
    "[링크텍스트](https://docs.opencv.org/4.x/d8/d01/group__imgproc__color__conversions.html#ga4e0972be5de079fed4e3a10e24ef5ef0)\n",
    "\n",
    "- dstCn: 결과 영상의 채널 수이고 0이면 자동 결정된다.\n",
    "\n",
    "- dst: 출력 영상\n",
    "\n",
    "\n",
    "### RGB 색상을 Grayscale로 변환\n",
    "\n",
    "0. Preview\n",
    "\n",
    "![](https://images.velog.io/images/qsdcfd/post/c1a9aeba-ff3a-4ccb-8766-3a4160c4a1d2/image.png)\n",
    "\n",
    "- 장점: 데이터 저장 용량이 감소하고, 데이터 처리 속도 향상\n",
    "\n",
    "- 단점: 색상 정보 손실\n",
    "\n",
    "![](https://images.velog.io/images/qsdcfd/post/937590d3-d5d3-404a-b301-0baa2e0725ae/image.png)\n",
    "\n",
    "1. HSV 색 공간\n",
    "\n",
    "- Hue: 색상, 색의 종류를 각도로 표현\n",
    "\n",
    "- Saturation: 채도\n",
    "\n",
    "- Value: 명도\n",
    "\n",
    "![](https://images.velog.io/images/qsdcfd/post/81c3aa75-8cf9-4421-abee-8c4f2388b3d6/image.png)\n",
    "\n",
    "- 값의 범위\n",
    "\n",
    "  - cv2.CV_8U\n",
    "  \n",
    "    I) 0 <= H <= 179\n",
    "    \n",
    "    II) 0 <= S <= 255\n",
    "    \n",
    "    III) 0 <= V <= 255\n",
    "    \n",
    "![](https://images.velog.io/images/qsdcfd/post/20b64388-6111-41ef-9303-8f67a03babbe/image.png)\n"
   ]
  },
  {
   "cell_type": "code",
   "execution_count": null,
   "id": "swedish-productivity",
   "metadata": {},
   "outputs": [],
   "source": [
    "src = cv2.imread('candies.png', cv2.IMREAD_COLOR)\n",
    "src_hsv = cv2.cvtColor(src, cv2.COLOR_BGR2HSV)\n",
    "Hue, Saturation, Value = cv2.split(src_hsv)\n",
    "\n",
    "cv2.imshow('src', src)\n",
    "cv2.imshow('H_plane', Hue)\n",
    "cv2.imshow('S_plane', Saturation)\n",
    "cv2.imshow('V_plane', Value)\n",
    "cv2.waitKey()\n",
    "cv2.destroyAllWindows()"
   ]
  },
  {
   "cell_type": "markdown",
   "id": "cardiovascular-variation",
   "metadata": {},
   "source": [
    "![](https://images.velog.io/images/qsdcfd/post/d686edb1-435f-47f2-a54c-05e7acdda9e1/image.png)"
   ]
  },
  {
   "cell_type": "markdown",
   "id": "civil-leeds",
   "metadata": {},
   "source": [
    "2. YCrCb 색 공간\n",
    "\n",
    "- PAL, NTSC, SECAM 등의 컬러 비디오 표준에 사용되는 색 공간\n",
    "\n",
    "- 영상의 밝기 정보와 색상 정보를 따로 분리하여 부호화 (흑백 TV 호환)\n",
    "\n",
    "- Y : 밝기 정보(luma)\n",
    "\n",
    "- Cr, Cb : 색차(chroma)\n",
    "\n",
    "- 값의 범위\n",
    "\n",
    "  - cv2.CV_8U영상\n",
    "  \n",
    "   I) 0<= Y <=255\n",
    "  \n",
    "   II) 0 <=Cr <= 255\n",
    "   \n",
    "   III) 0 <=Cb <= 255\n",
    "  \n",
    "  \n",
    "![](https://images.velog.io/images/qsdcfd/post/e584eb58-f057-4cad-9400-d12396914b24/image.png)"
   ]
  },
  {
   "cell_type": "code",
   "execution_count": null,
   "id": "intermediate-texture",
   "metadata": {},
   "outputs": [],
   "source": [
    "src = cv2.imread('candies.png', cv2.IMREAD_COLOR)\n",
    "src_YCrCb = cv2.cvtColor(src, cv2.COLOR_BGR2YCrCb)\n",
    "Y, Cr, Cb = cv2.split(src_YCrCb)\n",
    "\n",
    "cv2.imshow('src', src)\n",
    "cv2.imshow('Y_plane', Y)\n",
    "cv2.imshow('Cr_plane', Cr)\n",
    "cv2.imshow('Cb_plane', Cb)\n",
    "cv2.waitKey()\n",
    "cv2.destroyAllWindows()"
   ]
  },
  {
   "cell_type": "markdown",
   "id": "alone-twist",
   "metadata": {},
   "source": [
    "![](https://images.velog.io/images/qsdcfd/post/5b4da569-04db-4e28-a3f2-dad6fd18605c/image.png)"
   ]
  },
  {
   "cell_type": "code",
   "execution_count": null,
   "id": "patient-weight",
   "metadata": {},
   "outputs": [],
   "source": []
  }
 ],
 "metadata": {
  "kernelspec": {
   "display_name": "Python 3",
   "language": "python",
   "name": "python3"
  },
  "language_info": {
   "codemirror_mode": {
    "name": "ipython",
    "version": 3
   },
   "file_extension": ".py",
   "mimetype": "text/x-python",
   "name": "python",
   "nbconvert_exporter": "python",
   "pygments_lexer": "ipython3",
   "version": "3.7.9"
  }
 },
 "nbformat": 4,
 "nbformat_minor": 5
}
