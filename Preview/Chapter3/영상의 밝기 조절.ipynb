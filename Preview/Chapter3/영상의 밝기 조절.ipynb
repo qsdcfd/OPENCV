{
 "cells": [
  {
   "cell_type": "markdown",
   "id": "surgical-input",
   "metadata": {},
   "source": [
    "## 영상 화소 처리 기법\n",
    "\n",
    "1. 화소 처리(Point processing)\n",
    "\n",
    "  - 입력 영상의 특정 좌표 픽설 값을 변경하여 출력 영상의 해당 좌표 픽셀 값으로 설정하는 연산.\n",
    "  \n",
    "    ![](https://images.velog.io/images/qsdcfd/post/12edbe60-5a6c-4d2c-ac49-8ac798a66b3e/image.png)\n",
    "    \n",
    "    - 출력값 : [0,255]  /  입력값 : [0,255]\n",
    "    \n",
    " \n",
    "  - 결과 영상의 픽셀 값이 정해지진 범위에 있어야 한다.\n",
    "  \n",
    "  - 반전, 밝기 조절, 명암비 조절 등\n",
    "  \n",
    "  \n",
    "2. 밝기 조절\n",
    "\n",
    "  - 영상을 더 밝게 혹은 어둡게 한다\n",
    "  \n",
    "  ![](https://images.velog.io/images/qsdcfd/post/037fd24f-5d66-4e8f-80c4-2e1d17dcacfd/image.png)\n",
    "  \n",
    "  - 수식\n",
    "  \n",
    "  ![](https://images.velog.io/images/qsdcfd/post/112eecc3-33c9-43da-90df-d695215319b7/image.png)\n",
    "  \n",
    "  *saturate\n",
    "  \n",
    "  : 포화상태로, 일정 값 이상 또는 이하로 넘어가지 않게 하는 역할\n",
    "  \n",
    "  \n",
    "  - 영상의 덧셈 연산\n",
    "  \n",
    "\n",
    "```\n",
    "cv2.add(src1, src2, dst=None, mask=None, dtype=None) -> dst\n",
    "```\n",
    "\n",
    "   - scr1: 입력,  첫 번째 영상 또는 스칼라\n",
    "    \n",
    "    - src2: 입력, 두 번째 영상 또는 스칼라\n",
    "    \n",
    "    - dst: 출력, 덧셈 연산의 결과 영상\n",
    "    \n",
    "    - mask: 마스크 영상\n",
    "    \n",
    "    - dtype: 출력 영상(dst)의 타입.  ex) cv2.CV_8U, cv2.CV_32F\n",
    "    \n",
    "           \n",
    "   - 참고사항\n",
    "    \n",
    "    \t- 스칼라는 실수 값 하나 혹은 네 개로 구성되어있는 튜플\n",
    "            \n",
    "        - dst를 함수 인자로 전달 시, dst의 크기가 src1, src2와 같고 타입 적절\n",
    "            "
   ]
  },
  {
   "cell_type": "markdown",
   "id": "assumed-illness",
   "metadata": {},
   "source": [
    "3. 그레이스케일 영상의 밝기 100만큼 증가\n",
    "\n",
    "- clip or add함수 사용\n",
    "\n",
    "![](https://images.velog.io/images/qsdcfd/post/ca0ec3e6-b448-48a1-ac03-1d74d3f87778/image.png)\n",
    "\n",
    "- clip 함수 사용 안함\n",
    "\n",
    "![](https://images.velog.io/images/qsdcfd/post/f6eabf1d-2af2-4abd-816b-9b9bbc16555c/image.png)"
   ]
  },
  {
   "cell_type": "code",
   "execution_count": null,
   "id": "automated-fifteen",
   "metadata": {},
   "outputs": [],
   "source": [
    "src = cv2.imread('lenna.bmp', cv2.IMREAD_GRAYSCALE)\n",
    "dst1 = cv2.add(src, 100)\n",
    "dst2 = src + 100 # 255 넘어갈 시, dst는 그 값 - 255\n",
    "dst2 = np.clip(src + 100., 0, 255).astype(np.uint8) #clip함수 -> 포화 상황 대비\n",
    "dst = cv2.add(src, 100) # 제일 간단한 방식"
   ]
  },
  {
   "cell_type": "markdown",
   "id": "aggressive-extreme",
   "metadata": {},
   "source": [
    "4. 컬러 영상의 밝기 100만큼 증가\n",
    "\n",
    "- dst1, dst2의 결과들이 모두 같다\n",
    "\n",
    "- dst1 = cv2.add(src,100) 입력\n",
    "\n",
    "![](https://images.velog.io/images/qsdcfd/post/f5dbe3f9-567c-4ce1-bf8e-4560d76ce317/image.png)"
   ]
  },
  {
   "cell_type": "code",
   "execution_count": null,
   "id": "posted-maldives",
   "metadata": {},
   "outputs": [],
   "source": [
    "src = cv2.imread('lenna.bmp')\n",
    "dst1 = cv2.add(src, (100, 100, 100, 0)) # blue성분 100만 추가\n",
    "dst2 = np.clip(src + 100., 0, 255).astype(np.uint8)\n",
    "\n",
    "\n",
    "# 비교를 위해서 사이즈 조절\n",
    "\n",
    "src = cv2.resize(src, dsize=(0, 0), fx=0.5, fy=0.5)\n",
    "dst1 = cv2.resize(dst1, dsize=(0, 0), fx=0.5, fy=0.5)\n",
    "dst2 = cv2.resize(dst2, dsize=(0, 0), fx=0.5, fy=0.5)"
   ]
  },
  {
   "cell_type": "markdown",
   "id": "median-effectiveness",
   "metadata": {},
   "source": [
    "![](https://images.velog.io/images/qsdcfd/post/fcc92f66-e0ab-44a2-85e5-2555071526b4/image.png)"
   ]
  },
  {
   "cell_type": "code",
   "execution_count": null,
   "id": "awful-accommodation",
   "metadata": {},
   "outputs": [],
   "source": []
  }
 ],
 "metadata": {
  "kernelspec": {
   "display_name": "Python 3",
   "language": "python",
   "name": "python3"
  },
  "language_info": {
   "codemirror_mode": {
    "name": "ipython",
    "version": 3
   },
   "file_extension": ".py",
   "mimetype": "text/x-python",
   "name": "python",
   "nbconvert_exporter": "python",
   "pygments_lexer": "ipython3",
   "version": "3.7.9"
  }
 },
 "nbformat": 4,
 "nbformat_minor": 5
}
