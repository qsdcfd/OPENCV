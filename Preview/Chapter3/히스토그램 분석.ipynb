{
 "cells": [
  {
   "cell_type": "markdown",
   "id": "meaningful-turkey",
   "metadata": {},
   "source": [
    "### 히스토그램 분석\n",
    "\n",
    "- 히스토그램(Histogram)\n",
    "\n",
    "\t- 영상의 픽셀 값 분포를 그래프로 표현\n",
    "    \n",
    "    ![](https://images.velog.io/images/qsdcfd/post/6bdc7a66-c1b0-4074-84bf-18614bcd1bb4/image.png)\n",
    "    \n",
    "\n",
    "- 정규화된 히스토그램(Normalized histogram)\n",
    "\n",
    "\t- 각 픽셀의 개수를 영상 전체 픽셀 개수로 나눠줌\n",
    "    \n",
    "    - 해당 그레이스케일 값을 갖는 픽셀이 나타날 확률\n",
    "    \n",
    "    ![](https://images.velog.io/images/qsdcfd/post/ad45d24f-63a8-4cb5-9024-2bb672c06dbc/image.png)\n",
    "    \n",
    "\n",
    "- 영상과 히스토그램의 관계\n",
    "\n",
    "![](https://images.velog.io/images/qsdcfd/post/7e149d5e-3811-42fc-a997-bd36e478a9bc/image.png)\n",
    "\n"
   ]
  },
  {
   "cell_type": "markdown",
   "id": "overhead-closing",
   "metadata": {},
   "source": [
    "- 히스토그램 구하기\n",
    "\n",
    "```\n",
    "cv2.calcHist(images, channels, mask, histSize, ranges, hist=None, \n",
    "accumulate=None) -> hist\n",
    "```\n",
    "\n",
    "\n",
    "- images: 입력 영상 리스트\n",
    "    \n",
    "    - channels: 히스토그램을 구할 채널 나타내는 리스트\n",
    "    \n",
    "    - mask: 마스크 영상, 입력 영상 전체에서 히스토그램 구하면 None지정\n",
    "    \n",
    "    - histSize: 히스토그램 각 차원의 크기를 나타내는 리스트\n",
    "    \n",
    "    - ranges: 히스토그램 각 차원의 최솟값과 최댓값으로 구성된 리스트\n",
    "    \n",
    "    - hist: 계산된 히스토그램(numpy.ndarray)\n",
    "    \n",
    "    - accumulate: 기존의 hist 히스토그램 누적하면 True, 새로 만들면 False\n",
    "    \n",
    "    \n",
    "- 그레이스스케일 영상의 히스토그램 구하기\n"
   ]
  },
  {
   "cell_type": "code",
   "execution_count": null,
   "id": "expressed-baseline",
   "metadata": {},
   "outputs": [],
   "source": [
    "src = cv2.imread('lenna.bmp', cv2.IMREAD_GRAYSCALE)\n",
    "hist = cv2.calcHist([src], [0], None, [256], [0, 256])\n",
    "plt.plot(hist)\n",
    "plt.show()"
   ]
  },
  {
   "cell_type": "markdown",
   "id": "satellite-classroom",
   "metadata": {},
   "source": [
    "![](https://images.velog.io/images/qsdcfd/post/e3c86b6a-7d08-48a4-819b-3923738af83d/image.png)"
   ]
  },
  {
   "cell_type": "markdown",
   "id": "patent-crest",
   "metadata": {},
   "source": [
    "- 컬러 영상의 히스토그램 구하기"
   ]
  },
  {
   "cell_type": "code",
   "execution_count": null,
   "id": "steady-trash",
   "metadata": {},
   "outputs": [],
   "source": [
    "src = cv2.imread('lenna.bmp')\n",
    "\n",
    "colors = ['b', 'g', 'r']\n",
    "bgr_planes = cv2.split(src)\n",
    "\n",
    "for (p, c) in zip(bgr_planes, colors):\n",
    "\thist = cv2.calcHist([p], [0], None, [256], [0, 256])\n",
    "\tplt.plot(hist, color=c)\n",
    "\n",
    "plt.show()\n"
   ]
  },
  {
   "cell_type": "markdown",
   "id": "specific-flower",
   "metadata": {},
   "source": [
    "![](https://images.velog.io/images/qsdcfd/post/e85ae166-73d3-4f24-9b64-c3d468d51984/image.png)\n"
   ]
  },
  {
   "cell_type": "markdown",
   "id": "advance-chapel",
   "metadata": {},
   "source": [
    "- OpenCV 그리기 함수로 그레이스케일 영상의 히스토그램 나타내기"
   ]
  },
  {
   "cell_type": "code",
   "execution_count": null,
   "id": "designed-cotton",
   "metadata": {},
   "outputs": [],
   "source": [
    "def getGrayHistImage(hist):\n",
    "\timgHist = np.full((100, 256), 255, dtype=np.uint8)\n",
    "\n",
    "\thistMax = np.max(hist)\n",
    "\n",
    "\tfor x in range(256):\n",
    "\t\tpt1 = (x, 100)\n",
    "\t\tpt2 = (x, 100 - int(hist[x, 0] * 100 / histMax))\n",
    "\t\tcv2.line(imgHist, pt1, pt2, 0)\n",
    "\n",
    "\treturn imgHist\n",
    "src = cv2.imread('lenna.bmp', cv2.IMREAD_GRAYSCALE)\n",
    "\n",
    "hist = cv2.calcHist([src], [0], None, [256], [0, 256])\n",
    "\n",
    "histImg = getGrayHistImage(hist)"
   ]
  },
  {
   "cell_type": "markdown",
   "id": "accomplished-membership",
   "metadata": {},
   "source": [
    "\n",
    "![](https://images.velog.io/images/qsdcfd/post/cfc30fb1-7f51-40c1-9439-17d604a81043/image.png)"
   ]
  },
  {
   "cell_type": "code",
   "execution_count": null,
   "id": "successful-cooperation",
   "metadata": {},
   "outputs": [],
   "source": []
  }
 ],
 "metadata": {
  "kernelspec": {
   "display_name": "Python 3",
   "language": "python",
   "name": "python3"
  },
  "language_info": {
   "codemirror_mode": {
    "name": "ipython",
    "version": 3
   },
   "file_extension": ".py",
   "mimetype": "text/x-python",
   "name": "python",
   "nbconvert_exporter": "python",
   "pygments_lexer": "ipython3",
   "version": "3.7.9"
  }
 },
 "nbformat": 4,
 "nbformat_minor": 5
}
