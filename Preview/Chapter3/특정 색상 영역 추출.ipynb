{
 "cells": [
  {
   "cell_type": "markdown",
   "id": "textile-vatican",
   "metadata": {},
   "source": [
    "### 특정 색상 영역 추출\n",
    "\n",
    "- RGB색 공간에서 녹색 영역 추출하기\n",
    "\n",
    "![](https://images.velog.io/images/qsdcfd/post/cd6486bb-11c3-4e8c-ab5d-4e560b189bc8/image.png)\n",
    "\n",
    "- HSV색 공간에서 녹색 영역 추출하기\n",
    "\n",
    "![](https://images.velog.io/images/qsdcfd/post/46517072-ddc4-4aa4-8213-1c07ed324f47/image.png)\n",
    "\n",
    "- RGB색 공간에서 녹색 영역 추출하기\n",
    "\n",
    "![](https://images.velog.io/images/qsdcfd/post/a904cefe-850d-4316-b1ef-8a03ec1fa93b/image.png)\n",
    "\n",
    "- HSV색 공간에서 녹색 영역 추출하기\n",
    "\n",
    "![](https://images.velog.io/images/qsdcfd/post/6a564fc4-2bdd-4dc9-8798-b663c7b0c735/image.png)\n",
    "\n",
    "#### 특정 색상 영역 추출\n",
    "\n",
    "- 특정 범위 안에 있는 행렬 원소 검출\n",
    "\n",
    "```\n",
    "cv2.inRange(src, lowerb, upperb, dst=None) -> dst\n",
    "```\n",
    "\n",
    "- src: 입력행렬\n",
    "    \n",
    "- lowerb: 하한 값 행렬 혹은 스칼라\n",
    "\n",
    "- upperb: 상한 값 행렬 혹은 스칼라\n",
    "\n",
    "- dst: 입력 영상과 같은 크기의 마스크 영상(numpy.uint8) , 범위 안에 들어가는 픽셀은 255, 나머지는 0으로 설정\n",
    "\n",
    "\n",
    "- 단일 채널: ![](https://images.velog.io/images/qsdcfd/post/bfd214a7-7f37-46c8-ab43-1862796dd1de/image.png)\n",
    "\n",
    "- 다중 채널:\n",
    "\n",
    "![](https://images.velog.io/images/qsdcfd/post/ffb53420-de22-43bb-b844-53bada908306/image.png)\n",
    "    \n",
    "    \n",
    "- 트랙바를 이용한 특정 색상 영역 추출"
   ]
  },
  {
   "cell_type": "code",
   "execution_count": null,
   "id": "authorized-thunder",
   "metadata": {},
   "outputs": [],
   "source": [
    "src = cv2.imread('candies.png')\n",
    "src_hsv = cv2.cvtColor(src, cv2.COLOR_BGR2HSV)\n",
    "\n",
    "def on_trackbar(pos):\n",
    "\thmin = cv2.getTrackbarPos('H_min', 'dst')\n",
    "\thmax = cv2.getTrackbarPos('H_max', 'dst')\n",
    "\n",
    "\tdst = cv2.inRange(src_hsv, (hmin, 150, 0), (hmax, 255, 255))\n",
    "\tcv2.imshow('dst', dst)\n",
    "\n",
    "cv2.imshow('src', src)\n",
    "cv2.namedWindow('dst')\n",
    "\n",
    "cv2.createTrackbar('H_min', 'dst', 50, 179, on_trackbar)\n",
    "cv2.createTrackbar('H_max', 'dst', 80, 179, on_trackbar)\n",
    "on_trackbar(0)\n",
    "cv2.waitKey()"
   ]
  },
  {
   "cell_type": "markdown",
   "id": "stainless-snapshot",
   "metadata": {},
   "source": [
    "![](https://images.velog.io/images/qsdcfd/post/59d8602a-c8aa-45ed-8d6f-01fd41a33c8b/image.png)\n"
   ]
  },
  {
   "cell_type": "code",
   "execution_count": null,
   "id": "geographic-melissa",
   "metadata": {},
   "outputs": [],
   "source": []
  }
 ],
 "metadata": {
  "kernelspec": {
   "display_name": "Python 3",
   "language": "python",
   "name": "python3"
  },
  "language_info": {
   "codemirror_mode": {
    "name": "ipython",
    "version": 3
   },
   "file_extension": ".py",
   "mimetype": "text/x-python",
   "name": "python",
   "nbconvert_exporter": "python",
   "pygments_lexer": "ipython3",
   "version": "3.7.9"
  }
 },
 "nbformat": 4,
 "nbformat_minor": 5
}
