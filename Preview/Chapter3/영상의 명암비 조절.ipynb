{
 "cells": [
  {
   "cell_type": "markdown",
   "id": "located-learning",
   "metadata": {},
   "source": [
    "### 영상의 명암비 조절\n",
    "\n",
    "- 명암비(Contrast)\n",
    "\n",
    "\t- 밝은 곳과 어두운 곳 사이에 드러나는 밝기 차이\n",
    "    \n",
    "    ![](https://images.velog.io/images/qsdcfd/post/1bd27773-cd56-4de7-a9e2-3b1edcb267d2/image.png)\n",
    "    \n",
    "    \n",
    "- 기본적인 명암비 조절 함수\n",
    "\n",
    "\t- dst(x,y) = saturatee(s* src(x,y))\n",
    "    \n",
    "    ![](https://images.velog.io/images/qsdcfd/post/76735684-b092-4e09-ba5c-c98e64ca943a/image.png)"
   ]
  },
  {
   "cell_type": "code",
   "execution_count": null,
   "id": "federal-reform",
   "metadata": {},
   "outputs": [],
   "source": [
    "src = cv2.imread('lenna.bmp', cv2.IMREAD_GRAYSCALE)\n",
    "alpha = 1.0\n",
    "dst = np.clip((1+alpha)*src - 128*alpha, 0, 255).astype(np.uint8)"
   ]
  },
  {
   "cell_type": "markdown",
   "id": "adverse-talent",
   "metadata": {},
   "source": [
    "![](https://images.velog.io/images/qsdcfd/post/850ce7a3-59b1-45f8-8412-1aa711a6fde9/image.png)"
   ]
  },
  {
   "cell_type": "markdown",
   "id": "intensive-cause",
   "metadata": {},
   "source": [
    "- 히스토그램  스트레칭(Histogram stretching)\n",
    "\n",
    "\t- 영상의 히스토그램이 그레이스케일 전 구간에 걸쳐서 나오도록 선형 변환 기법\n",
    "    \n",
    "    ![](https://images.velog.io/images/qsdcfd/post/83967e7a-b4b5-498d-84a1-f7d4e3d1e6e0/image.png)\n",
    "    \n",
    "    \n",
    "- 정규화 함수"
   ]
  },
  {
   "cell_type": "code",
   "execution_count": null,
   "id": "knowing-family",
   "metadata": {},
   "outputs": [],
   "source": [
    "cv2.normalize(src, dst, alpha=None, beta=None, norm_type=None, dtype=None,\n",
    "mask=None) -> dst"
   ]
  },
  {
   "cell_type": "markdown",
   "id": "entitled-navigator",
   "metadata": {},
   "source": [
    "- src: 입력 영상\n",
    "\n",
    "\t- dst: 결과 영상\n",
    "\n",
    "\t- alpha: 목표 노름 값(정규화), 최솟값( 원소 값 범위가 정규화)\n",
    "\n",
    "\t- beta: 최댓값( 원소 값 범위가 정규화)\n",
    "\n",
    "\t- norm_type: 정규화 타입.NORM_INF, NORM_L1, NORM_L2, NORM_MINMAX\n",
    "\n",
    "\t- dtype: 결과 영상의 타입\n",
    "\n",
    "\t- mask: 마스크 영상"
   ]
  },
  {
   "cell_type": "markdown",
   "id": "through-macro",
   "metadata": {},
   "source": [
    "- 히스토그램 스트레칭을 통해 명암비 조절\n",
    "\n",
    "```\n",
    "src = cv2.imread('Hawkes.jpg', cv2.IMREAD_GRAYSCALE)\n",
    "\n",
    "dst = cv2.normalize(src, None, 0, 255, cv2.NORM_MINMAX)\n",
    "```\n",
    "\n",
    "![](https://images.velog.io/images/qsdcfd/post/a9415641-a95f-4a65-81e9-c58ddf5e7f81/image.png)\n",
    "\n",
    "\n",
    "- 변환 함수\n",
    "\n",
    "![](https://images.velog.io/images/qsdcfd/post/2f3edff9-9340-4ddd-94df-5b656d7db857/image.png)"
   ]
  },
  {
   "cell_type": "code",
   "execution_count": null,
   "id": "partial-insulation",
   "metadata": {},
   "outputs": [],
   "source": []
  }
 ],
 "metadata": {
  "kernelspec": {
   "display_name": "Python 3",
   "language": "python",
   "name": "python3"
  },
  "language_info": {
   "codemirror_mode": {
    "name": "ipython",
    "version": 3
   },
   "file_extension": ".py",
   "mimetype": "text/x-python",
   "name": "python",
   "nbconvert_exporter": "python",
   "pygments_lexer": "ipython3",
   "version": "3.7.9"
  }
 },
 "nbformat": 4,
 "nbformat_minor": 5
}
