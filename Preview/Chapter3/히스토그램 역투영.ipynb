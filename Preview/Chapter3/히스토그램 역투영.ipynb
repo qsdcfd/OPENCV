{
 "cells": [
  {
   "cell_type": "markdown",
   "id": "pretty-determination",
   "metadata": {},
   "source": [
    "### 히스토그램 역투영\n",
    "\n",
    "- 히스토그램 역투영(Histogram backprojection)\n",
    "\n",
    "\t- 영상의 각 픽셀이 주어진 히스토그램 모델과 얼마나 일치하는지 검사\n",
    "    \n",
    "    - 임의의 색상 영역 검출 시 효과적이다.\n",
    "    \n",
    "![](https://images.velog.io/images/qsdcfd/post/e74a4e93-1d4f-459e-9a06-9ddda593aea8/image.png)    \n",
    "\n",
    "\n",
    "- 히스토그램 역투영을 이용한 살색 검출\n",
    "\n",
    "\t- 기준 영상으로부터 살색에 대한 컬러 히스토그램 미리 계산\n",
    "    \n",
    "    - 입력 영상에서 미리 구한 살색 히스토그램에 부합하는 픽셀식별하기\n",
    "    \n",
    "\n",
    "![](https://images.velog.io/images/qsdcfd/post/2c16a7a8-ab0e-4de2-b0f6-c3fe2e7c93bd/image.png)\n",
    "\n",
    "\n",
    "- 히스토그램 역투영 함수\n",
    "\n",
    "\n",
    "```\n",
    "cv2.calBackProject(images, channels, hist, ranges, scale, dst= None) -> dst\n",
    "```\n",
    "\n",
    "- images: 입력 영상 리스트\n",
    "\n",
    "- channels: 역투영 계산에 사용할 채널 번호 리스트\n",
    "\n",
    "- hist: 입력 히스토그램(numpy.ndarray)\n",
    "\n",
    "- ranges: 히스토그램 각 차원의 최솟값과 최댓값으로 구성된 리스트\n",
    "\n",
    "- scale: 출력 역투영 행렬에 추가적으로 곱할 값\n",
    "\n",
    "- dst: 출력 역투영 영상, 입력영상과 동일크기이고 cv2.CV_8U.\n",
    "\n",
    "- CODE OF 히스토그램 역투영 (with 살색 영역검출)\n"
   ]
  },
  {
   "cell_type": "markdown",
   "id": "primary-freight",
   "metadata": {},
   "source": [
    "#### CODE OF 히스토그램 역투영 (with 살색 영역검출)"
   ]
  },
  {
   "cell_type": "code",
   "execution_count": null,
   "id": "royal-charter",
   "metadata": {},
   "outputs": [],
   "source": [
    "# CrCb 살색 히스토그램 구하기\n",
    "ref = cv2.imread('kids1.png', cv2.IMREAD_COLOR)\n",
    "mask = cv2.imread('kids1_mask.bmp', cv2.IMREAD_GRAYSCALE)\n",
    "ref_ycrcb = cv2.cvtColor(ref, cv2.COLOR_BGR2YCrCb)\n",
    "\n",
    "channels = [1, 2]\n",
    "ranges = [0, 256, 0, 256]\n",
    "hist = cv2.calcHist([ref_ycrcb], channels, mask, [128, 128], ranges)\n",
    "\n",
    "# 입력 영상에 히스토그램 역투영 적용\n",
    "src = cv2.imread('kids2.png', cv2.IMREAD_COLOR)\n",
    "src_ycrcb = cv2.cvtColor(src, cv2.COLOR_BGR2YCrCb)\n",
    "\n",
    "backproj = cv2.calcBackProject([src_ycrcb], channels, hist, ranges, 1)\n",
    "h, w = src.shape[:2]\n",
    "dst = np.zeros((h, w, 3), np.uint8)\n",
    "dst[backproj > 30] = src[backproj > 30]"
   ]
  },
  {
   "cell_type": "markdown",
   "id": "critical-library",
   "metadata": {},
   "source": [
    "\n",
    "![](https://images.velog.io/images/qsdcfd/post/e2250396-9e75-4316-8b25-f8a8a8796457/image.png)"
   ]
  },
  {
   "cell_type": "code",
   "execution_count": null,
   "id": "least-venture",
   "metadata": {},
   "outputs": [],
   "source": []
  }
 ],
 "metadata": {
  "kernelspec": {
   "display_name": "Python 3",
   "language": "python",
   "name": "python3"
  },
  "language_info": {
   "codemirror_mode": {
    "name": "ipython",
    "version": 3
   },
   "file_extension": ".py",
   "mimetype": "text/x-python",
   "name": "python",
   "nbconvert_exporter": "python",
   "pygments_lexer": "ipython3",
   "version": "3.7.9"
  }
 },
 "nbformat": 4,
 "nbformat_minor": 5
}
