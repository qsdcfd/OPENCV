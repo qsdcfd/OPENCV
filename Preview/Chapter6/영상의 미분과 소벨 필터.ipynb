{
 "cells": [
  {
   "cell_type": "markdown",
   "id": "sealed-moisture",
   "metadata": {},
   "source": [
    "### 에지 검출과 미분\n",
    "\n",
    "- 에지(edge)\n",
    "\n",
    "   - 영상에서 픽셀의 밝기 값이 급격하게 변하는 부분\n",
    "   \n",
    "   - 배경과 객체 혹은 객체와 객체의 경계\n",
    "   \n",
    "![](https://images.velog.io/images/qsdcfd/post/b0530957-eaf6-4949-9bb5-9d7f0b668e10/image.png) \n",
    "\n",
    "\n",
    "- 기본적인 에지 검출 방법\n",
    "\n",
    "   - 영상을(x,y)변수의 함수로 간주할 때, 이 함수의 1차 미분값이 크게 나타나는 부분 검출\n",
    "   \n",
    "   \n",
    " ![](https://images.velog.io/images/qsdcfd/post/1537ea3c-7ed4-444a-ac38-05cd1f923556/image.png)\n",
    " \n",
    " \n",
    "- 1차 미분의 근사화\n",
    "\n",
    "\n",
    "   - 전진 차분 ![](https://images.velog.io/images/qsdcfd/post/4c46b941-505e-4752-bf5f-9a65b9a69f50/image.png)\n",
    "   \n",
    "   \n",
    "   - 후진 차분 ![](https://images.velog.io/images/qsdcfd/post/d8c52067-66ce-4f65-8197-cdbbc582977e/image.png)\n",
    "   \n",
    "   \n",
    "   - 중앙 차분 ![](https://images.velog.io/images/qsdcfd/post/b2bb107d-4f4c-40c4-bca3-9520062426f9/image.png)\n",
    "   \n",
    "   \n",
    "   \n",
    "- 다양한 미분 마스크\n",
    "\n",
    "![](https://images.velog.io/images/qsdcfd/post/251efdbe-caf5-432b-a644-7397d4d76011/image.png)\n",
    "\n",
    "\n",
    "#### 소벨 필터 이용한 미분 함수\n",
    "\n",
    "```\n",
    "cv2.Sobel(src, ddepth, dx, dy, dst=None, ksize=None, scale=None, \n",
    "delta=None, borderType=None) -> dst\n",
    "\n",
    "```\n",
    "\n",
    "- src: 입력 영상\n",
    "\n",
    "- ddepth: 출력 영상 데이터 타입으로 -1이면 입력 영상과 같은 데이터 타입 사용\n",
    "\n",
    "- dx: x방향 미분 차수 , 기본으로 dx =1, dx=0\n",
    "\n",
    "- dy: y방향 미분 차수 , 기본으로 dy = 0, dy =1\n",
    "\n",
    "- ksize: 커널 크기로 기본값은 ksize= 3\n",
    "\n",
    "- dst: 출력영상 행렬\n",
    "\n",
    "- scale: 연산 결과에 추가적으로 곱한 값으로 기본 값은 1\n",
    "\n",
    "- delta: 연산 결과에 추가적으로 더할 값으로 기본 값은 0\n",
    "\n",
    "- borderType: 가장자리 픽셀 확장 방식으로 기본값은 cv2.BORDER_DEFAULT\n",
    "\n",
    "#### 샤르필터 이용하여 미분 함수\n",
    "\n",
    "```\n",
    "cv2.Scharr(src, ddepth, dx, dy, dst=None, scale=None, delta=None, \n",
    "borderType=None) -> dst\n",
    "\n",
    "```\n",
    "\n",
    "- src: 입력 영상\n",
    "\n",
    "- ddepth: 출력 영상 데이터 타입으로 -1이면 입력 영상과 같은 데이터 타입 사용\n",
    "\n",
    "- dx: x방향 미분 차수\n",
    "\n",
    "- dy: y방향 미분 차수\n",
    "\n",
    "- dst: 출력영상 행렬\n",
    "\n",
    "- scale: 연산 결과에 추가적으로 곱할 값으로 기본 값은 1이다\n",
    "\n",
    "- delta: 연산 결과에 추가적으로 더할 값으로 기본 값은 0이다\n",
    "\n",
    "- borderType: 가장자리 픽셀 확장 방식으로 기본값은 cv2.BORDER_DEFAULT"
   ]
  },
  {
   "cell_type": "markdown",
   "id": "unauthorized-rating",
   "metadata": {},
   "source": [
    "#### 실습예제\n",
    "\n",
    "- 소벨 필터"
   ]
  },
  {
   "cell_type": "code",
   "execution_count": null,
   "id": "viral-terminal",
   "metadata": {},
   "outputs": [],
   "source": [
    "src = cv2.imread('lenna.bmp', cv2.IMREAD_GRAYSCALE)\n",
    "dx = cv2.Sobel(src, -1, 1, 0, delta=128)\n",
    "dy = cv2.Sobel(src, -1, 0, 1, delta=128)"
   ]
  },
  {
   "cell_type": "markdown",
   "id": "vietnamese-madness",
   "metadata": {},
   "source": [
    "![](https://images.velog.io/images/qsdcfd/post/7a95ce67-d34e-4eba-831b-56f593e91414/image.png)"
   ]
  },
  {
   "cell_type": "code",
   "execution_count": null,
   "id": "married-programmer",
   "metadata": {},
   "outputs": [],
   "source": []
  }
 ],
 "metadata": {
  "kernelspec": {
   "display_name": "Python 3",
   "language": "python",
   "name": "python3"
  },
  "language_info": {
   "codemirror_mode": {
    "name": "ipython",
    "version": 3
   },
   "file_extension": ".py",
   "mimetype": "text/x-python",
   "name": "python",
   "nbconvert_exporter": "python",
   "pygments_lexer": "ipython3",
   "version": "3.7.9"
  }
 },
 "nbformat": 4,
 "nbformat_minor": 5
}
