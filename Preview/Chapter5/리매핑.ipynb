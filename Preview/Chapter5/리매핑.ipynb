{
 "cells": [
  {
   "cell_type": "markdown",
   "id": "former-transfer",
   "metadata": {},
   "source": [
    "### 리매핑(remapping)\n",
    "\n",
    "\n",
    "- 영상의 특정 위치  픽셀을 다른 위치에 배치하는 것\n",
    "\n",
    "- 공식: dst(x,y) = src(mapx(x,y), mapy(x,y))\n",
    "\n",
    "- 특징: 어파인 변환, 투시 변환도 리매핑으로 표현 가능\n",
    "\n",
    "- 예시: ![](https://images.velog.io/images/qsdcfd/post/7b05b42e-95f6-4226-b64d-ddf6f729382c/image.png)\n",
    "\n",
    "- 함수\n",
    "\n",
    "```\n",
    "cv2.remap(src, map1, map2, interpolation, dst=None, borderMode=None, \n",
    "borderValue=None) -> dst\n",
    "\n",
    "```\n",
    "\n",
    "- src: 입력영상\n",
    "\n",
    "- map1: 결과 영상의 (x,y)좌표가 참조할 입력 영역의 x좌표로 입력 영상의 크기는 같고 타입은 np.float32인 numpy.ndarray\n",
    "\n",
    "- map2: 결과 영상의 (x,y)좌표가 참조할 입력 영상의 y좌표이다\n",
    "\n",
    "- interpolation: 보간법\n",
    "\n",
    "- dst: 출력 영상ㅇ\n",
    "\n",
    "- borderMode: 가장자리 픽셀 확장 방식으로 기본값은 cv2.BORDER_CONSTANT\n",
    "\n",
    "- borderValue: cv2.BORDER_CONSTANT일 때 사용하는 상수 값으로 기본 값은 0이다.\n"
   ]
  },
  {
   "cell_type": "markdown",
   "id": "unlimited-conservative",
   "metadata": {},
   "source": [
    "#### 삼각함수 이용한 예제\n"
   ]
  },
  {
   "cell_type": "code",
   "execution_count": null,
   "id": "recognized-circulation",
   "metadata": {},
   "outputs": [],
   "source": [
    "src = cv2.imread('tekapo.bmp')\n",
    "h, w = src.shape[:2]\n",
    "map2, map1 = np.indices((h, w), dtype=np.float32)\n",
    "map2 = map2 + 10 * np.sin(map1 / 32)\n",
    "dst = cv2.remap(src, map1, map2, cv2.INTER_CUBIC,\n",
    "borderMode=cv2.BORDER_DEFAULT)"
   ]
  },
  {
   "cell_type": "markdown",
   "id": "duplicate-saint",
   "metadata": {},
   "source": [
    "![](https://images.velog.io/images/qsdcfd/post/f4d4e552-5286-44bb-b06f-af31b4ecbad8/image.png)"
   ]
  },
  {
   "cell_type": "code",
   "execution_count": null,
   "id": "phantom-prior",
   "metadata": {},
   "outputs": [],
   "source": []
  }
 ],
 "metadata": {
  "kernelspec": {
   "display_name": "Python 3",
   "language": "python",
   "name": "python3"
  },
  "language_info": {
   "codemirror_mode": {
    "name": "ipython",
    "version": 3
   },
   "file_extension": ".py",
   "mimetype": "text/x-python",
   "name": "python",
   "nbconvert_exporter": "python",
   "pygments_lexer": "ipython3",
   "version": "3.7.9"
  }
 },
 "nbformat": 4,
 "nbformat_minor": 5
}
