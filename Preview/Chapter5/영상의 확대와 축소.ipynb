{
 "cells": [
  {
   "cell_type": "markdown",
   "id": "careful-france",
   "metadata": {},
   "source": [
    "### 영상의 확대와 축소\n",
    "\n",
    "- 크기 변환(Scale transformation)\n",
    "\n",
    "   - 영상의 크기를 원본보다 크게 혹은 작게 만든다\n",
    "   \n",
    "   - x와 y축 방향으로 스케일 비율 지정\n",
    "   \n",
    " ![](https://images.velog.io/images/qsdcfd/post/66ad6695-b3e5-437b-994e-1fa4cb085baf/image.png)\n",
    " \n",
    " \n",
    "- 영상의 크기 변환\n",
    "\n",
    "```\n",
    "cv2.resize(src, dsize, dst=None, fx=None, fy=None, interpolation=None) -> dst\n",
    "```\n",
    "\n",
    "- src: 입력 영상\n",
    "\n",
    "- dsize: 결과 영상 크기로 (w,h)튜플이다. (0,0)이면 fx와 fy값을 이용하여 결정\n",
    "\n",
    "- dst: 출력 영상\n",
    "\n",
    "- fx, fy: x와 y방향의 스케일 비율(dsize =0일 때 유효)\n",
    "\n",
    "- interpolation: 보간법 지정. 기본값은 cv2.INTER_LINEAR\n",
    "\n",
    "   - cv2.INTER_NEAREST : 최근방 이웃 보간법\n",
    "   \n",
    "   - cv2.INTER_LINEAR  : 양선형 보간법(2 * 2 이웃 픽셀)\n",
    "   \n",
    "   - cv2.INTER_CUBIC   : 3차회선 보간법( 4 * 4 이웃 픽셀)\n",
    "   \n",
    "   - cv2.INTER_LANCZOS4 : Lanczos 보간법 ( 8 * 8 이웃 픽셀)\n",
    "   \n",
    "   - cv2.INTER_AREA :영상 축소 시 효과적\n",
    "   \n",
    "   \n",
    "- 영상의 축소 시 고려 사항\n",
    "\n",
    "\n",
    "   - 디테일 부분이 사라지는 경우\n",
    "   \n",
    "   - 입력 영상을 부드럽게 필터링한 후 축소, 다단계 축소\n",
    "   \n",
    "   - cv2.resize()함수에서 cv2.INTER_AREA 플래그 사용\n",
    "   \n",
    "\n",
    "![](https://images.velog.io/images/qsdcfd/post/ba2d61cd-0b4b-4ffd-9020-e534cf0faece/image.png)"
   ]
  },
  {
   "cell_type": "markdown",
   "id": "missing-minneapolis",
   "metadata": {},
   "source": [
    "#### 예제"
   ]
  },
  {
   "cell_type": "code",
   "execution_count": null,
   "id": "authentic-cabinet",
   "metadata": {},
   "outputs": [],
   "source": [
    "src = cv2.imread('rose.bmp') # 480x320\n",
    "\n",
    "dst1 = cv2.resize(src, (0, 0), fx=4, fy=4, interpolation=cv2.INTER_NEAREST)\n",
    "dst2 = cv2.resize(src, (1920, 1280)) # cv2.INTER_LINEAR\n",
    "dst3 = cv2.resize(src, (1920, 1280), interpolation=cv2.INTER_CUBIC)\n",
    "dst4 = cv2.resize(src, (1920, 1280), interpolation=cv2.INTER_LANCZOS4)\n",
    "\n",
    "cv2.imshow('src', src)\n",
    "cv2.imshow('dst1', dst1[500:900, 400:800])\n",
    "cv2.imshow('dst2', dst2[500:900, 400:800])\n",
    "cv2.imshow('dst3', dst3[500:900, 400:800])\n",
    "cv2.imshow('dst4', dst4[500:900, 400:800])\n",
    "cv2.waitKey()\n",
    "\n",
    "cv2.destroyAllWindows()"
   ]
  },
  {
   "cell_type": "markdown",
   "id": "applied-insight",
   "metadata": {},
   "source": [
    "![](https://images.velog.io/images/qsdcfd/post/9754806f-c496-488b-807b-985e2eb63506/image.png)\n",
    "\n",
    "![](https://images.velog.io/images/qsdcfd/post/adb1cbb3-856e-40d9-a02d-edc44c18a34b/image.png)"
   ]
  },
  {
   "cell_type": "markdown",
   "id": "subsequent-trauma",
   "metadata": {},
   "source": [
    "### 영상의 대칭\n",
    "\n",
    "- 영상의 대칭 변환(flip, reflection)\n",
    "\n",
    "![](https://images.velog.io/images/qsdcfd/post/cc26f25d-41c2-4ddc-a80b-9041fa5237c5/image.png)\n",
    "\n",
    "![](https://images.velog.io/images/qsdcfd/post/a0169c29-ec68-4d71-a202-6e2b6a2f3487/image.png)\n",
    "\n",
    "\n",
    "- 대칭 변환\n",
    "\n",
    "```\n",
    "cv2.flip(src, flipCode, dst=None) -> dst\n",
    "```\n",
    "\n",
    "- src: 입력 영상\n",
    "\n",
    "- flipCode: 대칭 방향 지정\n",
    "\n",
    "   - 양수(+1) : 좌우대칭\n",
    "   \n",
    "   - 0 : 상하대칭\n",
    "   \n",
    "   - 음수(-1) : 좌우 &상하 대칭\n",
    "   \n",
    "- dst: 출력영상"
   ]
  },
  {
   "cell_type": "code",
   "execution_count": null,
   "id": "nonprofit-ambassador",
   "metadata": {},
   "outputs": [],
   "source": []
  }
 ],
 "metadata": {
  "kernelspec": {
   "display_name": "Python 3",
   "language": "python",
   "name": "python3"
  },
  "language_info": {
   "codemirror_mode": {
    "name": "ipython",
    "version": 3
   },
   "file_extension": ".py",
   "mimetype": "text/x-python",
   "name": "python",
   "nbconvert_exporter": "python",
   "pygments_lexer": "ipython3",
   "version": "3.7.9"
  }
 },
 "nbformat": 4,
 "nbformat_minor": 5
}
