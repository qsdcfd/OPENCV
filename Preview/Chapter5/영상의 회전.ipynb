{
 "cells": [
  {
   "cell_type": "markdown",
   "id": "internal-charles",
   "metadata": {},
   "source": [
    "### 영상의 회전\n",
    "\n",
    "- 회전 변환(rotation transformation)\n",
    "\n",
    "   - 영상을 특정 각도만큼 회전(반시계 방향)\n",
    "   \n",
    "![](https://images.velog.io/images/qsdcfd/post/6f2c3e5e-aa6a-4189-80b8-d1ccd290866a/image.png)"
   ]
  },
  {
   "cell_type": "markdown",
   "id": "geological-excellence",
   "metadata": {},
   "source": [
    "### 예제"
   ]
  },
  {
   "cell_type": "code",
   "execution_count": null,
   "id": "alike-collapse",
   "metadata": {},
   "outputs": [],
   "source": [
    "src = cv2.imread('tekapo.bmp')\n",
    "\n",
    "rad = 20 * math.pi / 180\n",
    "\n",
    "aff = np.array([[math.cos(rad), math.sin(rad), 0],\n",
    "\t\t\t\t[-math.sin(rad), math.cos(rad), 0]], dtype=np.float32)\n",
    "\n",
    "dst = cv2.warpAffine(src, aff, (0, 0))"
   ]
  },
  {
   "cell_type": "markdown",
   "id": "waiting-programmer",
   "metadata": {},
   "source": [
    "![](https://images.velog.io/images/qsdcfd/post/59c3f7a4-b011-4363-9b4b-275866d59004/image.png)"
   ]
  },
  {
   "cell_type": "markdown",
   "id": "asian-affect",
   "metadata": {},
   "source": [
    "- 영상의 회전 변환 행렬 구하기\n",
    "\n",
    "```\n",
    "cv2.getRotationMatrix2D(center, angle, scale) -> retval\n",
    "\n",
    "```\n",
    "\n",
    "- center: 회전 중심 좌표(x,y)튜플\n",
    "\n",
    "- angle: (반시계방향) 회적 각도로 음수는 시계 방향이다\n",
    "\n",
    "- scale: 추가적인 확대 비율\n",
    "\n",
    "- retval: 2 * 3 어파인 변환 행렬로 실수형이다.\n",
    "\n",
    "![](https://images.velog.io/images/qsdcfd/post/2d5fbf80-75dc-4805-a0ac-1bba0a6472ee/image.png)\n"
   ]
  },
  {
   "cell_type": "markdown",
   "id": "loving-johns",
   "metadata": {},
   "source": [
    "#### 중앙 기준 회전 예제"
   ]
  },
  {
   "cell_type": "code",
   "execution_count": null,
   "id": "eight-latino",
   "metadata": {},
   "outputs": [],
   "source": [
    "src = cv2.imread('tekapo.bmp')\n",
    "\n",
    "cp = (src.shape[1] / 2, src.shape[0] / 2)\n",
    "rot = cv2.getRotationMatrix2D(cp, 20, 1)\n",
    "\n",
    "dst = cv2.warpAffine(src, rot, (0, 0))"
   ]
  },
  {
   "cell_type": "markdown",
   "id": "consolidated-amsterdam",
   "metadata": {},
   "source": [
    "\n",
    "![](https://images.velog.io/images/qsdcfd/post/ef52e512-b738-410b-b564-d60c91dca437/image.png)"
   ]
  },
  {
   "cell_type": "code",
   "execution_count": null,
   "id": "artistic-metallic",
   "metadata": {},
   "outputs": [],
   "source": []
  }
 ],
 "metadata": {
  "kernelspec": {
   "display_name": "Python 3",
   "language": "python",
   "name": "python3"
  },
  "language_info": {
   "codemirror_mode": {
    "name": "ipython",
    "version": 3
   },
   "file_extension": ".py",
   "mimetype": "text/x-python",
   "name": "python",
   "nbconvert_exporter": "python",
   "pygments_lexer": "ipython3",
   "version": "3.7.9"
  }
 },
 "nbformat": 4,
 "nbformat_minor": 5
}
