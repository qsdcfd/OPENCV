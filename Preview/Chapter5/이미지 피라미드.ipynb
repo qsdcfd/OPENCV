{
 "cells": [
  {
   "cell_type": "markdown",
   "id": "floppy-wallet",
   "metadata": {},
   "source": [
    "### 이미지 피라미드\n",
    "\n",
    "- 하나의 영상에 대해 다양한 해상도의 영상 세트 구성\n",
    "\n",
    "- 가우시안 블러링이나 다운 샘플링 형태로 축소한다\n",
    "\n",
    "![](https://images.velog.io/images/qsdcfd/post/66cdb91f-ffd1-4334-914f-d9a3c9e99f79/image.png)\n",
    "\n",
    "#### 영상 피라미드 다운 샘플링\n",
    "\n",
    "```\n",
    "cv2.pyrDown(src, dst=None, dstsize=None, borderType=None) -> dst\n",
    "```\n",
    "\n",
    "- src: 입력 영상\n",
    "\n",
    "- dst: 출력 영상\n",
    "\n",
    "- dstsize: 출력 영상의 크기로 따로 지정하지 않으면 입력 영상의 가로, 세로 크기의 1/2로 설정\n",
    "\n",
    "- borderType: 가장자리 픽셀 확장 방식\n",
    "\n",
    "- 참고사항\n",
    "\n",
    "   - 5 * 5 가우시안 필터 적용\n",
    "   \n",
    "   - 짝수 행과 열을 제거하여 작은 크기의 영상 생성\n",
    "   \n",
    "   \n",
    "#### 영상 피라미드 업샘플링\n",
    "\n",
    "```\n",
    "cv2.pyrUp(src, dst=None, dstsize=None, borderType=None) -> dst\n",
    "```\n",
    "\n",
    "- src: 입력 영상\n",
    "\n",
    "- dst: 출력 영상\n",
    "\n",
    "- dstsize: 출력 영상의 크기로 따로 지정하지 않으면 입력 영상의 가로, 세로 크기의 2배로 설정\n",
    "\n",
    "- borderType: 가장자리 픽셀 확장 방식"
   ]
  },
  {
   "cell_type": "markdown",
   "id": "billion-polls",
   "metadata": {},
   "source": [
    "#### 피라미드 영상 사각형 예제"
   ]
  },
  {
   "cell_type": "code",
   "execution_count": null,
   "id": "enormous-institute",
   "metadata": {},
   "outputs": [],
   "source": [
    "src = cv2.imread('cat.bmp')\n",
    "\n",
    "rc = (250, 120, 200, 200) # rectangle tuple\n",
    "\n",
    "cpy = src.copy()\n",
    "cv2.rectangle(cpy, rc, (0, 0, 255), 2)\n",
    "cv2.imshow('src', cpy)\n",
    "cv2.waitKey()\n",
    "\n",
    "for i in range(1, 4):\n",
    "\n",
    "\tsrc = cv2.pyrDown(src)\n",
    "\tcpy = src.copy()\n",
    "\tcv2.rectangle(cpy, rc, (0, 0, 255), 2, shift=i)\n",
    "\tcv2.imshow('src', cpy)\n",
    "\tcv2.waitKey()"
   ]
  },
  {
   "cell_type": "markdown",
   "id": "documented-dressing",
   "metadata": {},
   "source": [
    "\n",
    "![](https://images.velog.io/images/qsdcfd/post/8834e7c4-7545-4e23-9835-8e2efbf06a70/image.png)"
   ]
  },
  {
   "cell_type": "code",
   "execution_count": null,
   "id": "handmade-massage",
   "metadata": {},
   "outputs": [],
   "source": []
  }
 ],
 "metadata": {
  "kernelspec": {
   "display_name": "Python 3",
   "language": "python",
   "name": "python3"
  },
  "language_info": {
   "codemirror_mode": {
    "name": "ipython",
    "version": 3
   },
   "file_extension": ".py",
   "mimetype": "text/x-python",
   "name": "python",
   "nbconvert_exporter": "python",
   "pygments_lexer": "ipython3",
   "version": "3.7.9"
  }
 },
 "nbformat": 4,
 "nbformat_minor": 5
}
