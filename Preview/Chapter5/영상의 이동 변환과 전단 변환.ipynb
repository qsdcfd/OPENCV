{
 "cells": [
  {
   "cell_type": "markdown",
   "id": "announced-creator",
   "metadata": {},
   "source": [
    "### 영상의 기하학적 변환\n",
    "\n",
    "- 영상을 구성하는 픽셀 배치구조 변경을 통해 전체 영상의 모양 바꾸기\n",
    "\n",
    "- image registration, removal of geometric distortion\n",
    "\n",
    "![](https://images.velog.io/images/qsdcfd/post/a2e44bb1-9c1a-46c5-838a-3e6b0251be1d/image.png)\n",
    "\n",
    "### 영상의 이동 변환\n",
    "\n",
    "- 이동 변환(Translation transformation)\n",
    "\n",
    "   - 가로 또는 세로 방향으로 영상을 특정 크기만큼 이동시키며 변환\n",
    "   \n",
    "   - x축과 y축 방향으로 이동변위 지정\n",
    "   \n",
    "![](https://images.velog.io/images/qsdcfd/post/55047e38-ab85-4724-809b-51760eab25aa/image.png)\n",
    "\n",
    "\n",
    "- 영상의 어파인 변환 함수\n",
    "\n",
    "```\n",
    "cv2.warpAffine(src, M, dsize, dst=None, flags=None, \n",
    "borderMode=None, borderValue=None) -> dst\n",
    "```\n",
    "\n",
    "- src: 입력 영상\n",
    "\n",
    "- M: 2 * 3 어파인 변환 행렬.실수형\n",
    "\n",
    "- dsize: 결과 영상 크기. (w,h)튜플로 (0,0)이면 src와 같은 크기\n",
    "\n",
    "- dst: 출력 영상\n",
    "\n",
    "- flags: 보간법. 기본값은 cv2.INTER_LINEAR\n",
    "\n",
    "- borderMode: 가장자리 픽셀 확장 방식으로 기본값은 cv2.BORDER_CONSTANT.\n",
    "\n",
    "- borderValue:  cv2.BORDER_CONSTANT일때 사용할 상수 값으로 기본 값은 0이다.\n",
    "\n",
    "\n",
    "- 예제\n",
    "\n",
    "```\n",
    "src = cv2.imread('tekapo.bmp')\n",
    "\n",
    "aff = np.array([[1, 0, 200],\n",
    "  \t\t\t\t[0, 1, 100]], dtype=np.float32)\n",
    "\n",
    "dst = cv2.warpAffine(src, trn, (0, 0))\n",
    "```\n",
    "\n",
    "\n",
    "![](https://images.velog.io/images/qsdcfd/post/2d3856c3-1274-4892-9932-48099d1eb21a/image.png)\n",
    "\n",
    "\n",
    "### 영상의 전단 변환\n",
    "\n",
    "- 전단 변환(Shear transformation)\n",
    "\n",
    "   - 층 밀림 변환. x축과 y축 방향에 대해 따로 정의한다.\n",
    "   \n",
    "![](https://images.velog.io/images/qsdcfd/post/502ad809-6085-453e-9926-7e014f5718c0/image.png)\n"
   ]
  },
  {
   "cell_type": "markdown",
   "id": "quarterly-wagner",
   "metadata": {},
   "source": [
    "### 예제"
   ]
  },
  {
   "cell_type": "code",
   "execution_count": null,
   "id": "deluxe-modification",
   "metadata": {},
   "outputs": [],
   "source": [
    "src = cv2.imread('tekapo.bmp')\n",
    "\n",
    "aff = np.array([[1, 0.5, 0], [0, 1, 0]], dtype=np.float32)\n",
    "\n",
    "h, w = src.shape[:2]\n",
    "dst = cv2.warpAffine(src, aff, (w + int(h * 0.5), h))"
   ]
  },
  {
   "cell_type": "markdown",
   "id": "dressed-isaac",
   "metadata": {},
   "source": [
    " \n",
    "![](https://images.velog.io/images/qsdcfd/post/7b148b21-bf70-4491-9916-22de023805ed/image.png)"
   ]
  },
  {
   "cell_type": "code",
   "execution_count": null,
   "id": "international-swaziland",
   "metadata": {},
   "outputs": [],
   "source": []
  }
 ],
 "metadata": {
  "kernelspec": {
   "display_name": "Python 3",
   "language": "python",
   "name": "python3"
  },
  "language_info": {
   "codemirror_mode": {
    "name": "ipython",
    "version": 3
   },
   "file_extension": ".py",
   "mimetype": "text/x-python",
   "name": "python",
   "nbconvert_exporter": "python",
   "pygments_lexer": "ipython3",
   "version": "3.7.9"
  }
 },
 "nbformat": 4,
 "nbformat_minor": 5
}
