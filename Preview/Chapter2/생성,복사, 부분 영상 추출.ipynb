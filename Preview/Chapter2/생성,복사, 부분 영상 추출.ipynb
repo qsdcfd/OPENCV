{
 "cells": [
  {
   "cell_type": "markdown",
   "id": "short-toner",
   "metadata": {},
   "source": [
    "#### 기초 지식\n",
    "\n",
    "\n",
    "- shape: 각 차원의 크기.(h,w) or (h,w,3)\n",
    "\n",
    "- dtype: 원소의 데이터 타입을 나타내는 것으로 보통 numpy.uint8지정\n",
    "\n",
    "- arr: 생성된 영상(numpy.ndarrary)\n",
    "\n",
    "- numpy.empty(): 임의의 값으로 초기화된 배열\n",
    "\n",
    "- numpy.zero(): 0으로 초기화된 배열\n",
    "\n",
    "- numpy.ones(): 1로 초기화된 배열\n",
    "\n",
    "- numpy.full(): fill_value로 초기화된 배열"
   ]
  },
  {
   "cell_type": "code",
   "execution_count": null,
   "id": "angry-bacon",
   "metadata": {},
   "outputs": [],
   "source": [
    "numpy.empty(shape, dtype=float, ...) -> arr\n",
    "numpy.zeros(shape, dtype=float, ...) -> arr\n",
    "numpy.ones(shape, dtype=None, ...) -> arr\n",
    "numpy.full(shape, fill_value, dtype=None, ...) -> arr"
   ]
  },
  {
   "cell_type": "markdown",
   "id": "greek-zoning",
   "metadata": {},
   "source": [
    "### 생성"
   ]
  },
  {
   "cell_type": "code",
   "execution_count": null,
   "id": "liked-ranch",
   "metadata": {},
   "outputs": [],
   "source": [
    "img1 = np.empty((360, 480), dtype=np.uint8) #grayscale image\n",
    "img2 = np.zeros((360, 480, 3), dtype=np.uint8) # color image,RGB\n",
    "img3 = np.ones((360, 480), dtype=np.uint8) * 255 # white color\n",
    "img4 = np.full((360, 480, 3), (0, 255, 255), dtype=np.uint8) # yellow color"
   ]
  },
  {
   "cell_type": "markdown",
   "id": "palestinian-dealer",
   "metadata": {},
   "source": [
    "### 복사"
   ]
  },
  {
   "cell_type": "code",
   "execution_count": null,
   "id": "optimum-arena",
   "metadata": {},
   "outputs": [],
   "source": [
    "img1 = cv2.imread('HappyFish.jpg') #파일 불러오기\n",
    "img2 = img1 # img2에 img1을 할당한다\n",
    "img3 = img1.copy() # img3에 img1에 복사한다."
   ]
  },
  {
   "cell_type": "code",
   "execution_count": null,
   "id": "homeless-providence",
   "metadata": {},
   "outputs": [],
   "source": [
    "img1 = cv2.imread('HappyFish.jpg') #파일 불러오기\n",
    "img2 = img1 # img2에 img1을 할당한다\n",
    "img3 = img1.copy() #img1이 다르게 변해도 기존의 할당 파일이 복사됨\n",
    "img1.fill(255) # img1의 변화가 img2에도 영향을 미치지만 img3엔 미치지 못함"
   ]
  },
  {
   "cell_type": "markdown",
   "id": "romance-dietary",
   "metadata": {},
   "source": [
    "### 부분 영상 추출"
   ]
  },
  {
   "cell_type": "code",
   "execution_count": null,
   "id": "literary-hepatitis",
   "metadata": {},
   "outputs": [],
   "source": [
    "img1 = cv2.imread('HappyFish.jpg') #이미지 할당\n",
    "img2 = img1[40:120, 30:150] # numpy.ndarray의 슬라이싱 -> 부분 추출 가능하다\n",
    "img3 = img1[40:120, 30:150].copy() # 부분 추출 영상 복사\n",
    "img2.fill(0) #black color"
   ]
  }
 ],
 "metadata": {
  "kernelspec": {
   "display_name": "Python 3",
   "language": "python",
   "name": "python3"
  },
  "language_info": {
   "codemirror_mode": {
    "name": "ipython",
    "version": 3
   },
   "file_extension": ".py",
   "mimetype": "text/x-python",
   "name": "python",
   "nbconvert_exporter": "python",
   "pygments_lexer": "ipython3",
   "version": "3.7.9"
  }
 },
 "nbformat": 4,
 "nbformat_minor": 5
}
