{
 "cells": [
  {
   "cell_type": "markdown",
   "id": "liberal-sending",
   "metadata": {},
   "source": [
    "### ROI\n",
    "\n",
    "1. 정의: Region of Interest(관심영역)\n",
    "\n",
    "2. 특징: 영상에서 특정 연산을 하고 싶은 부분 영역\n",
    "\n",
    "### 마스크 연산\n",
    "\n",
    "1. 정의: ROI연산을 지원하는 일부 함수들은 마스크 영상을 인자로 함께 전달해야함\n",
    "\n",
    "2. 예시: cv2.copyTo(), cv2.calcHist(), cv2.bitwise_or(), cv2.matchTemplate()\n",
    "\n",
    "3. 특징:\n",
    "\n",
    "\t - cv2.CV_8UC1 타입(그레이스케일 영상[numpy.uint8])\n",
    "     \n",
    "     - 0이 아닌 위치에서만 연산 가능\n",
    "     \n",
    "     - 이진 연산 사용(0 또는 255로 구성됨)\n",
    "     \n",
    "\n",
    "\n",
    "4. 픽셀 값 복사 함수\n",
    "     \n",
    "\n",
    "```\n",
    "cv2.copyTo(src, mask, dst=None) -> dst\n",
    "```\n",
    "\n",
    "- scr: 입력 영상\n",
    "\n",
    "- mask: 마스크 영상으로 0이 아닌 픽셀에 대해서만 복사 연산 수행 \n",
    "\n",
    "- dst: 출력 영상\n",
    "\n",
    "  - dst가 scr의 크기 및 타입이 같다면, dst를 입력으로 지정 시 새로 생성하지 않고 연산 수행\n",
    "     \n",
    "  - 다르다면, 새로 생성하여 연산 수행 후 반환"
   ]
  },
  {
   "cell_type": "markdown",
   "id": "flexible-wildlife",
   "metadata": {},
   "source": [
    "5. 예제\n"
   ]
  },
  {
   "cell_type": "code",
   "execution_count": null,
   "id": "neural-undergraduate",
   "metadata": {},
   "outputs": [],
   "source": [
    "src = cv2.imread('airplane.bmp', cv2.IMREAD_COLOR) # 원본\n",
    "mask = cv2.imread('mask_plane.bmp', cv2.IMREAD_GRAYSCALE)  # Grayscale\n",
    "dst = cv2.imread('field.bmp', cv2.IMREAD_COLOR) # 합성할 배경\n",
    "\n",
    "cv2.copyTo(scr, mask, dst) # src, mask, dst는 모두 크기가 같아야 함\n",
    "                           # src , dst는 같은 타입\n",
    "                           # mask는 그레이스케일 타입의 이진영상\n",
    "                           \n",
    "                           # 결과: 합성해서 나오게 됨"
   ]
  },
  {
   "cell_type": "markdown",
   "id": "undefined-replication",
   "metadata": {},
   "source": [
    "6. Boolean indexing"
   ]
  },
  {
   "cell_type": "code",
   "execution_count": null,
   "id": "ongoing-examination",
   "metadata": {},
   "outputs": [],
   "source": [
    "src = cv2.imread('airplane.bmp', cv2.IMREAD_COLOR)\n",
    "mask = cv2.imread('mask_plane.bmp', cv2.IMREAD_GRAYSCALE)\n",
    "dst = cv2.imread('field.bmp', cv2.IMREAD_COLOR)\n",
    "\n",
    "\n",
    "dst[mask > 0] = src[mask > 0]\n",
    "\n",
    "cv2.imshow('src', src) \n",
    "cv2.imshow('dst', dst)  \n",
    "cv2.imshow('mask', mask) \n",
    "cv2.waitKey()"
   ]
  }
 ],
 "metadata": {
  "kernelspec": {
   "display_name": "Python 3",
   "language": "python",
   "name": "python3"
  },
  "language_info": {
   "codemirror_mode": {
    "name": "ipython",
    "version": 3
   },
   "file_extension": ".py",
   "mimetype": "text/x-python",
   "name": "python",
   "nbconvert_exporter": "python",
   "pygments_lexer": "ipython3",
   "version": "3.7.9"
  }
 },
 "nbformat": 4,
 "nbformat_minor": 5
}
