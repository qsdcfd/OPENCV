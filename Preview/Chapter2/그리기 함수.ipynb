{
 "cells": [
  {
   "cell_type": "markdown",
   "id": "compact-religious",
   "metadata": {},
   "source": [
    "### OpenCV 그리기 함수\n",
    "\n",
    "\n",
    "- 선, 도형, 문자열을 출력하는 도메인 제공\n",
    "\n",
    "- 선 그리기: 직선, 화살표, 마커\n",
    "\n",
    "- 도형 그리기: 사각형, 원, 타원, 다각형\n",
    "\n",
    "- 문자열 출력\n",
    "\n",
    "- 주의할 점\n",
    "\n",
    "\t- 영상의 픽셀 값 자체를 변경\n",
    "    \n",
    "\t-> 그러므로 원본 영상을 미리 복사본으로 만든 후 그리기 & 출력\n",
    "    \n",
    "    - 그레이스케일 영상은 컬러로 그리기 안된다\n",
    "    \n",
    "    -> cv2.cvtColor()함수로 BGR컬러로 반환 후 그리기\n",
    "\n",
    "\n",
    "#### 선 그리기 \n",
    "\n",
    "1. 직선 그리기\n",
    "\n",
    "```\n",
    "cv2.line(img, pt1, pt2, color, thickness=None, lineType=None, shift=None) -> img\n",
    "```\n",
    "\n",
    "- img: 그림 그릴 영상\n",
    "\n",
    "- pt1, pt2: 직선의 시작과 끝 점\n",
    "\n",
    "- color: 선 색상 또는 밝기(B,G,R)튜플 또는 정수값\n",
    "\n",
    "- thickness: 선 두께. 기본값은 1이다.\n",
    "\n",
    "- lineType: 선 타입으로 cv2.LINE_4, cv2.LINE_8(기본값), cv2.LINE_AA 등이 있다.\n",
    "\n",
    "- shift: 그리기 좌표 값의 축소 비율이고 기본값은 0이다.\n"
   ]
  },
  {
   "cell_type": "markdown",
   "id": "looking-mobile",
   "metadata": {},
   "source": [
    "#### 도형 그리기\n",
    "\n",
    "2. 사각형 그리기\n",
    "\n",
    "\n",
    "- pt1, pt2: 사각형의 두 꼭지점 좌표(x,y) 튜플\n",
    "\n",
    "- rec: 사각형 위치 정보(x,y,w,h)튜플\n",
    "\n",
    "- thickness: 선 두께.기본값은 1이지만 음수(-1)를 지정하면 내부 채움\n"
   ]
  },
  {
   "cell_type": "code",
   "execution_count": null,
   "id": "another-biography",
   "metadata": {},
   "outputs": [],
   "source": [
    "cv2.rectangle(img, pt1, pt2, color, thickness=None, lineType=None, \n",
    "shift=None) -> img\n",
    "cv2.rectangle(img, rec, color, thickness=None, lineType=None, \n",
    "shift=None) -> img"
   ]
  },
  {
   "cell_type": "markdown",
   "id": "fabulous-elevation",
   "metadata": {},
   "source": [
    "3. 원 그리기\n",
    "\n",
    "- center: 원의 중심좌표(x,y)튜플.\n",
    "\n",
    "- radius: 원의 반지름"
   ]
  },
  {
   "cell_type": "code",
   "execution_count": null,
   "id": "unauthorized-steel",
   "metadata": {},
   "outputs": [],
   "source": [
    "\n",
    "cv2.circle(img, center, radius, color, thickness=None, lineType=None, \n",
    "shift=None) -> img"
   ]
  },
  {
   "cell_type": "markdown",
   "id": "challenging-examination",
   "metadata": {},
   "source": [
    "4. 다각형 그리기\n",
    "\n",
    "\n",
    "\n",
    "- pts: 다각형 외곽 점들의 좌표 배열. numpy.ndarray의 리스트.\n",
    "\n",
    "\t- ex) [np.array([[10, 10], [50, 50], [10, 50]], dtype=np.int32)]\n",
    "        \n",
    "- isClosed: 폐곡선 여부. True or False지정"
   ]
  },
  {
   "cell_type": "code",
   "execution_count": null,
   "id": "under-opinion",
   "metadata": {},
   "outputs": [],
   "source": [
    "cv2.polylines(img, pts, isClosed, color, thickness=None, lineType=None, \n",
    "shift=None) -> img\n"
   ]
  },
  {
   "cell_type": "markdown",
   "id": "excessive-soldier",
   "metadata": {},
   "source": [
    "#### 문자열 출력\n",
    "\n",
    "```\n",
    "cv2.putText(img, text, org, fontFace, fontScale, color, thickness=None, \n",
    "lineType=None, bottomLeftOrigin=None) -> img\n",
    "```\n",
    "\n",
    "- text: 출력할 문자열\n",
    "\n",
    "-org: 영상에서 문자열을 출력할 위치의 좌측 하단 좌표. (x, y) 튜플.\n",
    "\n",
    "- fontFace: 폰트 종류. cv2.FONT_HERSHEY_ 로 시작하는 상수 중 선택\n",
    "\n",
    "- fontScale: 폰트 크기 확대/축소 비율\n",
    "\n",
    "- bottomLeftOrigin: True이면 영상의 좌측 하단을 원점으로 간주. 기본값은 False\n"
   ]
  },
  {
   "cell_type": "markdown",
   "id": "damaged-telephone",
   "metadata": {},
   "source": [
    "#### Code of Examples"
   ]
  },
  {
   "cell_type": "code",
   "execution_count": null,
   "id": "ideal-people",
   "metadata": {},
   "outputs": [],
   "source": [
    "img = np.full((400, 400, 3), 255, np.uint8)\n",
    "cv2.line(img, (50, 50), (200, 50), (0, 0, 255), 5)\n",
    "cv2.line(img, (50, 60), (150, 160), (0, 0, 128))\n",
    "cv2.rectangle(img, (50, 200, 150, 100), (0, 255, 0), 2)\n",
    "cv2.rectangle(img, (70, 220), (180, 280), (0, 128, 0), -1)\n",
    "cv2.circle(img, (300, 100), 60, (255, 0, 0), 3, cv2.LINE_AA)\n",
    "cv2.circle(img, (300, 100), 30, (255, 255, 0), -1, cv2.LINE_AA)\n",
    "pts = np.array([[250, 200], [300, 200], [350, 300], [250, 300]])\n",
    "cv2.polylines(img, [pts], True, (255, 0, 255), 2)\n",
    "text = 'Hello? OpenCV ' + cv2.__version__\n",
    "cv2.putText(img, text, (50, 350), cv2.FONT_HERSHEY_SIMPLEX, 0.8,\n",
    "(0, 0, 255), 1, cv2.LINE_AA)"
   ]
  }
 ],
 "metadata": {
  "kernelspec": {
   "display_name": "Python 3",
   "language": "python",
   "name": "python3"
  },
  "language_info": {
   "codemirror_mode": {
    "name": "ipython",
    "version": 3
   },
   "file_extension": ".py",
   "mimetype": "text/x-python",
   "name": "python",
   "nbconvert_exporter": "python",
   "pygments_lexer": "ipython3",
   "version": "3.7.9"
  }
 },
 "nbformat": 4,
 "nbformat_minor": 5
}
