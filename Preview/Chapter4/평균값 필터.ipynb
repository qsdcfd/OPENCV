{
 "cells": [
  {
   "cell_type": "markdown",
   "id": "affected-appliance",
   "metadata": {},
   "source": [
    "## 평균값 필터\n",
    "\n",
    "- 평균 값 필터(Mean filter)\n",
    "\n",
    "  - 영상의 특정 좌표 값을 주변 픽셀 값들의 산술 평균으로 설정\n",
    "    \n",
    "    - 픽셀들 간의 그레이스케일 값의 변화가 줄어들어 잡음의 영향이 사라짐\n",
    "    \n",
    "![](https://images.velog.io/images/qsdcfd/post/eabf0838-3e92-42c4-a362-39afdbd40318/image.png)\n",
    "\n",
    "- 실제 영상에 평균 값 필터 적용\n",
    "\n",
    "   - 마스크 크기가 커질수록 평균 값 필터 결과가 부드러워짐\n",
    "    \n",
    "     - 더 많은 연산량이 필요\n",
    "        \n",
    "![](https://images.velog.io/images/qsdcfd/post/7dd38459-d689-4c34-a158-9c1c3630cabf/image.png)        \n",
    "\n",
    "- filter2D()함수 이용\n",
    "\n",
    "```\n",
    "src = cv2.imread('rose.bmp', cv2.IMREAD_GRAYSCALE)\n",
    "\n",
    "kernel = np.array([[1/9, 1/9, 1/9],\n",
    "  \t\t\t\t   [1/9, 1/9, 1/9],\n",
    "\t\t\t\t   [1/9, 1/9, 1/9]])\n",
    "\n",
    "dst = cv2.filter2D(src, -1, kernel)\n",
    "\n",
    "```\n",
    "![](https://images.velog.io/images/qsdcfd/post/07f65632-6e9f-42a9-88b3-94d2f10ba6d6/image.png)\n",
    "\n",
    "- 평균 값 필터링 함수\n",
    "\n",
    "```\n",
    "cv2.blur(src, ksize, dst=None, anchor=None, borderType=None) -> dst\n",
    "```\n",
    "\n",
    "- src: 입력 영상\n",
    "\n",
    "- ksize: 평균값 필터 크기. (width, height)형태의 튜플\n",
    "\n",
    "- dst: 결과 영상. 입력 영상과 같은 크기 & 같은 타입.\n",
    "\n",
    "\n",
    "![](https://images.velog.io/images/qsdcfd/post/81c9da54-40c0-4a76-ade7-47324c137191/image.png)\n",
    "\n",
    "- 다양한 크기의 커널 사용\n"
   ]
  },
  {
   "cell_type": "code",
   "execution_count": null,
   "id": "surprised-viewer",
   "metadata": {},
   "outputs": [],
   "source": [
    "src = cv2.imread('rose.bmp', cv2.IMREAD_GRAYSCALE)\n",
    "\n",
    "cv2.imshow('src', src)\n",
    "\n",
    "for ksize in (3, 5, 7):\n",
    "\tdst = cv2.blur(src, (ksize, ksize))\n",
    "\n",
    "\tdesc = 'Mean: {}x{}'.format(ksize, ksize)\n",
    "\tcv2.putText(dst, desc, (10, 30), cv2.FONT_HERSHEY_SIMPLEX,\n",
    "1.0, 255, 1, cv2.LINE_AA)\n",
    "\n",
    "\tcv2.imshow('dst', dst)\n",
    "\tcv2.waitKey()\n",
    "\n",
    "cv2.destroyAllWindows()"
   ]
  },
  {
   "cell_type": "markdown",
   "id": "assisted-specification",
   "metadata": {},
   "source": [
    "![](https://images.velog.io/images/qsdcfd/post/89fb8491-5db4-4e3b-82b0-184ed7d4b0c4/image.png)"
   ]
  },
  {
   "cell_type": "code",
   "execution_count": null,
   "id": "alive-colombia",
   "metadata": {},
   "outputs": [],
   "source": []
  }
 ],
 "metadata": {
  "kernelspec": {
   "display_name": "Python 3",
   "language": "python",
   "name": "python3"
  },
  "language_info": {
   "codemirror_mode": {
    "name": "ipython",
    "version": 3
   },
   "file_extension": ".py",
   "mimetype": "text/x-python",
   "name": "python",
   "nbconvert_exporter": "python",
   "pygments_lexer": "ipython3",
   "version": "3.7.9"
  }
 },
 "nbformat": 4,
 "nbformat_minor": 5
}
