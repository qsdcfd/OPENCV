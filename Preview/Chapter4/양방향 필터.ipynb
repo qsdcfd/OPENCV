{
 "cells": [
  {
   "cell_type": "markdown",
   "id": "accomplished-tracker",
   "metadata": {},
   "source": [
    "### 가우시안 필터\n",
    "\n",
    "- 가우시안 잡음 제거에는 효과적\n",
    "\n",
    "![](https://images.velog.io/images/qsdcfd/post/5afd8e64-be00-42ed-a356-0698f6b00a5d/image.png)\n",
    "\n",
    "### 양방향 필터\n",
    "\n",
    "- 양방향 필터(Bilateral filter)\n",
    "\n",
    "   - 에지 보전 잡음 제거 필터의 하나\n",
    "   \n",
    "   - 픽셀 값을 평탄하게하는 단점(평균값 필터 혹은 가우시안 필터에선)\n",
    "   \n",
    "   - 기준 픽셀과 이웃 픽셀의 거리와 값 차이를 고려하여 블러링 정도 조절\n",
    "   \n",
    "![](https://images.velog.io/images/qsdcfd/post/c09efc88-69c6-49ed-905c-5e8e74f98318/image.png)\n",
    "\n",
    "- 양방향 필터\n",
    "\n",
    "   - 에지가 아닌 부분에서만 bluring 처리\n",
    "   \n",
    "![](https://images.velog.io/images/qsdcfd/post/390c2a49-8e0e-4dfe-af12-5ea3bba3a1d4/image.png)\n",
    "\n",
    "- 함수\n",
    "\n",
    "```\n",
    "cv2.bilateralFilter(src, d, sigmaColor, sigmaSpace, dst=None, \n",
    "borderType=None) -> dst\n",
    "```\n",
    "\n",
    "- src: 입력 영상으로 8비트 혹은 실수형/ 1채널 혹은 3채널이다\n",
    "\n",
    "- d: 필터링에 사용될 이웃 픽셀의 거리로 음수를 입력하면 sigmaSpace값에 의해 자동 결정\n",
    "\n",
    "- sigmaColor: 색 공간에서 필터의 표준 편차\n",
    "\n",
    "- simgmaSpace: 좌표 공간에서 필터의 표준 편차\n",
    "\n",
    "- dst: 출력 영상으로 src와 같은 크기 및 타입\n",
    "\n",
    "- border Type: 가장자리 픽셀 처리 방식\n"
   ]
  },
  {
   "cell_type": "markdown",
   "id": "cooperative-administrator",
   "metadata": {},
   "source": [
    "### CODE"
   ]
  },
  {
   "cell_type": "code",
   "execution_count": null,
   "id": "incorporated-diagnosis",
   "metadata": {},
   "outputs": [],
   "source": [
    "src = cv2.imread('lenna.bmp')\n",
    "dst = cv2.bilateralFilter(src, -1, 10, 5)"
   ]
  },
  {
   "cell_type": "markdown",
   "id": "alternate-hollow",
   "metadata": {},
   "source": [
    "![](https://images.velog.io/images/qsdcfd/post/2c8825cb-afa2-4c6a-90aa-f7385f012bc5/image.png)"
   ]
  },
  {
   "cell_type": "code",
   "execution_count": null,
   "id": "acute-lindsay",
   "metadata": {},
   "outputs": [],
   "source": []
  }
 ],
 "metadata": {
  "kernelspec": {
   "display_name": "Python 3",
   "language": "python",
   "name": "python3"
  },
  "language_info": {
   "codemirror_mode": {
    "name": "ipython",
    "version": 3
   },
   "file_extension": ".py",
   "mimetype": "text/x-python",
   "name": "python",
   "nbconvert_exporter": "python",
   "pygments_lexer": "ipython3",
   "version": "3.7.9"
  }
 },
 "nbformat": 4,
 "nbformat_minor": 5
}
