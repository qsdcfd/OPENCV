{
 "cells": [
  {
   "cell_type": "markdown",
   "id": "polished-thinking",
   "metadata": {},
   "source": [
    "### 가우시안 필터\n",
    "\n",
    "- 1차원 가우시안 함수 \n",
    "\n",
    "![](https://images.velog.io/images/qsdcfd/post/8c260137-4aef-4977-8d8e-c204eb798557/image.png)\n",
    "\n",
    "- 가우시안 함수 특징\n",
    "\n",
    "![](https://images.velog.io/images/qsdcfd/post/bfa1f8b4-a59e-48d4-84d2-862e652c5c8b/image.png)\n",
    "\n",
    "- 2차원 가우시안 함수\n",
    "\n",
    "![](https://images.velog.io/images/qsdcfd/post/36c18cc9-3b03-4f37-83cd-f9620e7a8fef/image.png)\n",
    "\n",
    "- 2 차원 가우시안 필터 마스크( a=1.0)\n",
    "\n",
    "*a = 표준편차\n",
    "\n",
    "  - 필터 마스크 크기 : 8a + 1 또는 6a + 1\n",
    "  \n",
    "  ![](https://images.velog.io/images/qsdcfd/post/77a6fae8-adb9-42d2-bc54-5f4c8c489fe7/image.png)\n",
    "  \n",
    "  \n",
    "- 가우시안 필터링 함수\n",
    "\n",
    "```\n",
    "cv2.GaussianBlur(src, ksize, sigmaX, dst=None, sigmaY=None, \n",
    "borderType=None) -> dst\n",
    "```\n",
    "\n",
    "  - src: 입력영상. 각 채널별로 처리가  된다\n",
    "  \n",
    "  - dst: 출력영상. src와 같은 크기 와 타입\n",
    "  \n",
    "  - ksize: 가우시안의 커널 크기로 (0,0) 지정 시 sigma값에 의해 자동 결정\n",
    "  \n",
    "  - simaX: x방향 sigma.\n",
    "  \n",
    "  - sigmaY: y방향 sigma. 0이면 sigmaX와 같게 설정\n",
    "  \n",
    "  - bordertYPE: 가장자리 픽셀 확장 방식"
   ]
  },
  {
   "cell_type": "markdown",
   "id": "linear-convention",
   "metadata": {},
   "source": [
    "#### 다양한 크기의 sigma를 사용한 가우시안 필터링"
   ]
  },
  {
   "cell_type": "code",
   "execution_count": null,
   "id": "closing-tennessee",
   "metadata": {},
   "outputs": [],
   "source": [
    "src = cv2.imread('rose.bmp', cv2.IMREAD_GRAYSCALE)\n",
    "\n",
    "cv2.imshow('src', src)\n",
    "\n",
    "for sigma in range(1, 6):\n",
    "\tdst = cv2.GaussianBlur(src, (0, 0), sigma)\n",
    "\n",
    "\tdesc = 'sigma = {}'.format(sigma)\n",
    "\tcv2.putText(dst, desc, (10, 30), cv2.FONT_HERSHEY_SIMPLEX,\n",
    "\t\t\t\t1.0, 255, 1, cv2.LINE_AA)\n",
    "\n",
    "\tcv2.imshow('dst', dst)\n",
    "\tcv2.waitKey()\n",
    "    \n",
    "cv2.destroyAllWindows()"
   ]
  },
  {
   "cell_type": "markdown",
   "id": "incredible-stadium",
   "metadata": {},
   "source": [
    "![](https://images.velog.io/images/qsdcfd/post/69df9132-a95a-4920-99b9-3367cba5b323/image.png)"
   ]
  },
  {
   "cell_type": "code",
   "execution_count": null,
   "id": "judicial-intensity",
   "metadata": {},
   "outputs": [],
   "source": []
  }
 ],
 "metadata": {
  "kernelspec": {
   "display_name": "Python 3",
   "language": "python",
   "name": "python3"
  },
  "language_info": {
   "codemirror_mode": {
    "name": "ipython",
    "version": 3
   },
   "file_extension": ".py",
   "mimetype": "text/x-python",
   "name": "python",
   "nbconvert_exporter": "python",
   "pygments_lexer": "ipython3",
   "version": "3.7.9"
  }
 },
 "nbformat": 4,
 "nbformat_minor": 5
}
