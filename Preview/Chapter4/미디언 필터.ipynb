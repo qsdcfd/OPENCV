{
 "cells": [
  {
   "cell_type": "markdown",
   "id": "apart-adolescent",
   "metadata": {},
   "source": [
    "### 영상 잡음\n",
    "\n",
    "- 영상 잡음(Noise)\n",
    "\n",
    "   - 영상의 픽셀 값에 원하지 않는 형태로 추가되는 신호\n",
    "   \n",
    "   ![](https://images.velog.io/images/qsdcfd/post/4deeab61-3fc5-49eb-aadb-b3bfaf068777/image.png)\n",
    "   \n",
    "   \n",
    " -  잡음의 종류\n",
    " \n",
    "    - 가우시안 잡음\n",
    "    \n",
    "    - 소금&후추 잡음\n",
    "    \n",
    "    ![](https://images.velog.io/images/qsdcfd/post/4e357d03-bff6-4dce-8c90-42533346e0f3/image.png)\n",
    "    \n",
    "    \n",
    "### 미디언 필터(Median filter)\n",
    "\n",
    "- 주변 픽셀들의 값을 정렬하여 중앙값으로 픽셀 대체\n",
    "\n",
    "- 소금&후추 잡음 제거에 효과적\n",
    "\n",
    "![](https://images.velog.io/images/qsdcfd/post/79da39e9-4c61-41ee-8aba-0945f8c8f63a/image.png)\n",
    "\n",
    "- 함수\n",
    "\n",
    "```\n",
    "cv2.medianBlur(src, ksize, dst=None) -> dst\n",
    "```\n",
    "\n",
    "   - src: 입력영상으로 각 채널로 처리됨\n",
    "   \n",
    "   - ksize: 커널의 크기로 1보다 큰 홀수로 지정\n",
    "   \n",
    "   - dst: 출력영상으로 src와 같은 크기와 타입"
   ]
  },
  {
   "cell_type": "markdown",
   "id": "cleared-copper",
   "metadata": {},
   "source": [
    "### 함수 예제"
   ]
  },
  {
   "cell_type": "code",
   "execution_count": null,
   "id": "prospective-reggae",
   "metadata": {},
   "outputs": [],
   "source": [
    "src = cv2.imread('noise.bmp', cv2.IMREAD_GRAYSCALE)\n",
    "\n",
    "dst = cv2.medianBlur(src, 3)"
   ]
  },
  {
   "cell_type": "markdown",
   "id": "induced-penguin",
   "metadata": {},
   "source": [
    "![](https://images.velog.io/images/qsdcfd/post/8a497f83-35f0-4b7d-982e-d263087542eb/image.png)"
   ]
  },
  {
   "cell_type": "code",
   "execution_count": null,
   "id": "developing-equilibrium",
   "metadata": {},
   "outputs": [],
   "source": []
  }
 ],
 "metadata": {
  "kernelspec": {
   "display_name": "Python 3",
   "language": "python",
   "name": "python3"
  },
  "language_info": {
   "codemirror_mode": {
    "name": "ipython",
    "version": 3
   },
   "file_extension": ".py",
   "mimetype": "text/x-python",
   "name": "python",
   "nbconvert_exporter": "python",
   "pygments_lexer": "ipython3",
   "version": "3.7.9"
  }
 },
 "nbformat": 4,
 "nbformat_minor": 5
}
