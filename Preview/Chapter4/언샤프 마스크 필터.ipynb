{
 "cells": [
  {
   "cell_type": "markdown",
   "id": "guided-omaha",
   "metadata": {},
   "source": [
    "### 언샤프 마스크(Unsharp mask)필터링\n",
    "\n",
    "- 부드러운 영상을 이용하여 날카로운 영상 생성\n",
    "\n",
    "![](https://images.velog.io/images/qsdcfd/post/049c6a7f-2bc6-49b5-884d-64dd6bf82e45/image.png)\n",
    "\n",
    "- 필터 구하기\n",
    "\n",
    "```\n",
    "src = cv2.imread('rose.bmp', cv2.IMREAD_GRAYSCALE)\n",
    "src_f = src.astype(np.float32)\n",
    "blr = cv2.GaussianBlur(src_f, (0, 0), 2.0)\n",
    "dst = np.clip(2. * src_f - blr, 0, 255).astype(np.uint8)\n",
    "```\n",
    "\n",
    "![](https://images.velog.io/images/qsdcfd/post/d82e1238-ebec-4175-b823-0e8b32351f0e/image.png)\n",
    "\n",
    "- 구현하기(샤프닝 조절하도록 수식 변경)\n",
    "\n",
    "\n",
    "![](https://images.velog.io/images/qsdcfd/post/33ac5955-bcd1-41be-92d6-c239e1ef41be/image.png)"
   ]
  },
  {
   "cell_type": "markdown",
   "id": "western-claim",
   "metadata": {},
   "source": [
    "#### 컬러 영상"
   ]
  },
  {
   "cell_type": "code",
   "execution_count": null,
   "id": "tracked-stretch",
   "metadata": {},
   "outputs": [],
   "source": [
    "src = cv2.imread('rose.bmp')\n",
    "\n",
    "src_ycrcb = cv2.cvtColor(src, cv2.COLOR_BGR2YCrCb)\n",
    "\n",
    "src_f = src_ycrcb[:, :, 0].astype(np.float32)\n",
    "blr = cv2.GaussianBlur(src_f, (0, 0), 2.0)\n",
    "src_ycrcb[:, :, 0] = np.clip(2. * src_f - blr, 0, 255).astype(np.uint8)\n",
    "\n",
    "dst = cv2.cvtColor(src_ycrcb, cv2.COLOR_YCrCb2BGR)"
   ]
  },
  {
   "cell_type": "markdown",
   "id": "south-retail",
   "metadata": {},
   "source": [
    "![](https://images.velog.io/images/qsdcfd/post/cf93f5f6-44bc-471a-9a6d-250b01ee50ad/image.png)"
   ]
  },
  {
   "cell_type": "code",
   "execution_count": null,
   "id": "regulated-reggae",
   "metadata": {},
   "outputs": [],
   "source": []
  }
 ],
 "metadata": {
  "kernelspec": {
   "display_name": "Python 3",
   "language": "python",
   "name": "python3"
  },
  "language_info": {
   "codemirror_mode": {
    "name": "ipython",
    "version": 3
   },
   "file_extension": ".py",
   "mimetype": "text/x-python",
   "name": "python",
   "nbconvert_exporter": "python",
   "pygments_lexer": "ipython3",
   "version": "3.7.9"
  }
 },
 "nbformat": 4,
 "nbformat_minor": 5
}
